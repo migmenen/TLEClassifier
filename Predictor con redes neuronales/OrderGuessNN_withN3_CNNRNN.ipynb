{
  "cells": [
    {
      "cell_type": "code",
      "execution_count": 74,
      "metadata": {
        "id": "foSjS_KzDouR"
      },
      "outputs": [],
      "source": [
        "import pandas as pd\n",
        "import numpy as np\n",
        "from sklearn import linear_model\n",
        "import math\n",
        "from sklearn.model_selection import train_test_split\n",
        "from keras.models import Sequential\n",
        "from keras.models import load_model\n",
        "from keras.layers import LSTM, Dense, Dropout, MaxPooling1D, GRU, Flatten\n",
        "from sklearn.preprocessing import MinMaxScaler\n",
        "from keras.losses import CategoricalCrossentropy\n",
        "from keras.callbacks import EarlyStopping\n",
        "import tensorflow\n",
        "import numpy as np\n",
        "from keras.layers import Input, Embedding, Conv1D, LSTM, Dense\n",
        "from keras.models import Model"
      ]
    },
    {
      "cell_type": "code",
      "execution_count": 75,
      "metadata": {
        "colab": {
          "base_uri": "https://localhost:8080/",
          "height": 545
        },
        "id": "N-_YHnU9Dzps",
        "outputId": "34df5a97-08fd-4359-d793-6f82792da7a7"
      },
      "outputs": [
        {
          "name": "stderr",
          "output_type": "stream",
          "text": [
            "C:\\Users\\migue\\AppData\\Local\\Temp\\ipykernel_6728\\582951787.py:2: FutureWarning: The error_bad_lines argument has been deprecated and will be removed in a future version. Use on_bad_lines in the future.\n",
            "\n",
            "\n",
            "  df = pd.read_csv(\"cosas_finales\\casos_all - obtiene80acierto.txt\", error_bad_lines=False)\n"
          ]
        },
        {
          "data": {
            "text/html": [
              "<div>\n",
              "<style scoped>\n",
              "    .dataframe tbody tr th:only-of-type {\n",
              "        vertical-align: middle;\n",
              "    }\n",
              "\n",
              "    .dataframe tbody tr th {\n",
              "        vertical-align: top;\n",
              "    }\n",
              "\n",
              "    .dataframe thead th {\n",
              "        text-align: right;\n",
              "    }\n",
              "</style>\n",
              "<table border=\"1\" class=\"dataframe\">\n",
              "  <thead>\n",
              "    <tr style=\"text-align: right;\">\n",
              "      <th></th>\n",
              "      <th>tamano</th>\n",
              "      <th>tiempo</th>\n",
              "      <th>tamano.1</th>\n",
              "      <th>tiempo.1</th>\n",
              "      <th>tamano.2</th>\n",
              "      <th>tiempo.2</th>\n",
              "      <th>tipo</th>\n",
              "    </tr>\n",
              "  </thead>\n",
              "  <tbody>\n",
              "    <tr>\n",
              "      <th>0</th>\n",
              "      <td>35714</td>\n",
              "      <td>0.020</td>\n",
              "      <td>178573</td>\n",
              "      <td>0.014</td>\n",
              "      <td>357147</td>\n",
              "      <td>5.000000e-03</td>\n",
              "      <td>0</td>\n",
              "    </tr>\n",
              "    <tr>\n",
              "      <th>1</th>\n",
              "      <td>28007</td>\n",
              "      <td>0.006</td>\n",
              "      <td>140036</td>\n",
              "      <td>0.002</td>\n",
              "      <td>280072</td>\n",
              "      <td>0.000000e+00</td>\n",
              "      <td>0</td>\n",
              "    </tr>\n",
              "    <tr>\n",
              "      <th>2</th>\n",
              "      <td>36722</td>\n",
              "      <td>0.017</td>\n",
              "      <td>183612</td>\n",
              "      <td>0.013</td>\n",
              "      <td>367225</td>\n",
              "      <td>3.000000e-03</td>\n",
              "      <td>0</td>\n",
              "    </tr>\n",
              "    <tr>\n",
              "      <th>3</th>\n",
              "      <td>27054</td>\n",
              "      <td>0.028</td>\n",
              "      <td>135272</td>\n",
              "      <td>0.013</td>\n",
              "      <td>270545</td>\n",
              "      <td>2.200000e-02</td>\n",
              "      <td>0</td>\n",
              "    </tr>\n",
              "    <tr>\n",
              "      <th>4</th>\n",
              "      <td>23816</td>\n",
              "      <td>0.012</td>\n",
              "      <td>119082</td>\n",
              "      <td>0.011</td>\n",
              "      <td>238164</td>\n",
              "      <td>2.800000e-02</td>\n",
              "      <td>0</td>\n",
              "    </tr>\n",
              "    <tr>\n",
              "      <th>...</th>\n",
              "      <td>...</td>\n",
              "      <td>...</td>\n",
              "      <td>...</td>\n",
              "      <td>...</td>\n",
              "      <td>...</td>\n",
              "      <td>...</td>\n",
              "      <td>...</td>\n",
              "    </tr>\n",
              "    <tr>\n",
              "      <th>419995</th>\n",
              "      <td>49</td>\n",
              "      <td>7058.940</td>\n",
              "      <td>248</td>\n",
              "      <td>1525299.200</td>\n",
              "      <td>496</td>\n",
              "      <td>2.440479e+07</td>\n",
              "      <td>5</td>\n",
              "    </tr>\n",
              "    <tr>\n",
              "      <th>419996</th>\n",
              "      <td>46</td>\n",
              "      <td>4866.800</td>\n",
              "      <td>232</td>\n",
              "      <td>3871022.080</td>\n",
              "      <td>464</td>\n",
              "      <td>1.398563e+07</td>\n",
              "      <td>5</td>\n",
              "    </tr>\n",
              "    <tr>\n",
              "      <th>419997</th>\n",
              "      <td>59</td>\n",
              "      <td>36968.220</td>\n",
              "      <td>296</td>\n",
              "      <td>3112120.320</td>\n",
              "      <td>592</td>\n",
              "      <td>4.149494e+06</td>\n",
              "      <td>5</td>\n",
              "    </tr>\n",
              "    <tr>\n",
              "      <th>419998</th>\n",
              "      <td>79</td>\n",
              "      <td>152842.090</td>\n",
              "      <td>397</td>\n",
              "      <td>3754246.380</td>\n",
              "      <td>795</td>\n",
              "      <td>1.021484e+07</td>\n",
              "      <td>5</td>\n",
              "    </tr>\n",
              "    <tr>\n",
              "      <th>419999</th>\n",
              "      <td>63</td>\n",
              "      <td>87516.450</td>\n",
              "      <td>319</td>\n",
              "      <td>649235.180</td>\n",
              "      <td>638</td>\n",
              "      <td>1.867829e+07</td>\n",
              "      <td>5</td>\n",
              "    </tr>\n",
              "  </tbody>\n",
              "</table>\n",
              "<p>420000 rows × 7 columns</p>\n",
              "</div>"
            ],
            "text/plain": [
              "        tamano      tiempo  tamano.1     tiempo.1  tamano.2      tiempo.2  \\\n",
              "0        35714       0.020    178573        0.014    357147  5.000000e-03   \n",
              "1        28007       0.006    140036        0.002    280072  0.000000e+00   \n",
              "2        36722       0.017    183612        0.013    367225  3.000000e-03   \n",
              "3        27054       0.028    135272        0.013    270545  2.200000e-02   \n",
              "4        23816       0.012    119082        0.011    238164  2.800000e-02   \n",
              "...        ...         ...       ...          ...       ...           ...   \n",
              "419995      49    7058.940       248  1525299.200       496  2.440479e+07   \n",
              "419996      46    4866.800       232  3871022.080       464  1.398563e+07   \n",
              "419997      59   36968.220       296  3112120.320       592  4.149494e+06   \n",
              "419998      79  152842.090       397  3754246.380       795  1.021484e+07   \n",
              "419999      63   87516.450       319   649235.180       638  1.867829e+07   \n",
              "\n",
              "        tipo  \n",
              "0          0  \n",
              "1          0  \n",
              "2          0  \n",
              "3          0  \n",
              "4          0  \n",
              "...      ...  \n",
              "419995     5  \n",
              "419996     5  \n",
              "419997     5  \n",
              "419998     5  \n",
              "419999     5  \n",
              "\n",
              "[420000 rows x 7 columns]"
            ]
          },
          "execution_count": 75,
          "metadata": {},
          "output_type": "execute_result"
        }
      ],
      "source": [
        "#Read data from csv\n",
        "df = pd.read_csv(\"cosas_finales\\casos_all - obtiene80acierto.txt\", error_bad_lines=False)\n",
        "#df = df.apply(pd.to_numeric)\n",
        "df"
      ]
    },
    {
      "cell_type": "code",
      "execution_count": 76,
      "metadata": {
        "colab": {
          "base_uri": "https://localhost:8080/",
          "height": 424
        },
        "id": "N03MQcpLdJX5",
        "outputId": "9d90d654-7ced-4d70-986e-bc06167d2381"
      },
      "outputs": [],
      "source": [
        "#clean wrong values\n",
        "\n",
        "# for i in range(0, len(df)-1):\n",
        "#   #print(str(df.tipo.values[i]/) + \" \" + str(i))\n",
        "#   if df.tipo[i] < 0 or df.tipo[i] > 5:\n",
        "#     df = df.drop(i, axis=0)\n",
        "\n",
        "# df = df.dropna()\n",
        "# df"
      ]
    },
    {
      "cell_type": "code",
      "execution_count": 77,
      "metadata": {
        "colab": {
          "base_uri": "https://localhost:8080/",
          "height": 424
        },
        "id": "rB_DAzxNJ650",
        "outputId": "73e65b1b-8887-4553-91ca-bc9471169919"
      },
      "outputs": [
        {
          "data": {
            "text/html": [
              "<div>\n",
              "<style scoped>\n",
              "    .dataframe tbody tr th:only-of-type {\n",
              "        vertical-align: middle;\n",
              "    }\n",
              "\n",
              "    .dataframe tbody tr th {\n",
              "        vertical-align: top;\n",
              "    }\n",
              "\n",
              "    .dataframe thead th {\n",
              "        text-align: right;\n",
              "    }\n",
              "</style>\n",
              "<table border=\"1\" class=\"dataframe\">\n",
              "  <thead>\n",
              "    <tr style=\"text-align: right;\">\n",
              "      <th></th>\n",
              "      <th>tamano</th>\n",
              "      <th>tiempo</th>\n",
              "      <th>tamano.1</th>\n",
              "      <th>tiempo.1</th>\n",
              "      <th>tamano.2</th>\n",
              "      <th>tiempo.2</th>\n",
              "    </tr>\n",
              "  </thead>\n",
              "  <tbody>\n",
              "    <tr>\n",
              "      <th>0</th>\n",
              "      <td>35714</td>\n",
              "      <td>0.020</td>\n",
              "      <td>178573</td>\n",
              "      <td>0.014</td>\n",
              "      <td>357147</td>\n",
              "      <td>5.000000e-03</td>\n",
              "    </tr>\n",
              "    <tr>\n",
              "      <th>1</th>\n",
              "      <td>28007</td>\n",
              "      <td>0.006</td>\n",
              "      <td>140036</td>\n",
              "      <td>0.002</td>\n",
              "      <td>280072</td>\n",
              "      <td>0.000000e+00</td>\n",
              "    </tr>\n",
              "    <tr>\n",
              "      <th>2</th>\n",
              "      <td>36722</td>\n",
              "      <td>0.017</td>\n",
              "      <td>183612</td>\n",
              "      <td>0.013</td>\n",
              "      <td>367225</td>\n",
              "      <td>3.000000e-03</td>\n",
              "    </tr>\n",
              "    <tr>\n",
              "      <th>3</th>\n",
              "      <td>27054</td>\n",
              "      <td>0.028</td>\n",
              "      <td>135272</td>\n",
              "      <td>0.013</td>\n",
              "      <td>270545</td>\n",
              "      <td>2.200000e-02</td>\n",
              "    </tr>\n",
              "    <tr>\n",
              "      <th>4</th>\n",
              "      <td>23816</td>\n",
              "      <td>0.012</td>\n",
              "      <td>119082</td>\n",
              "      <td>0.011</td>\n",
              "      <td>238164</td>\n",
              "      <td>2.800000e-02</td>\n",
              "    </tr>\n",
              "    <tr>\n",
              "      <th>...</th>\n",
              "      <td>...</td>\n",
              "      <td>...</td>\n",
              "      <td>...</td>\n",
              "      <td>...</td>\n",
              "      <td>...</td>\n",
              "      <td>...</td>\n",
              "    </tr>\n",
              "    <tr>\n",
              "      <th>419995</th>\n",
              "      <td>49</td>\n",
              "      <td>7058.940</td>\n",
              "      <td>248</td>\n",
              "      <td>1525299.200</td>\n",
              "      <td>496</td>\n",
              "      <td>2.440479e+07</td>\n",
              "    </tr>\n",
              "    <tr>\n",
              "      <th>419996</th>\n",
              "      <td>46</td>\n",
              "      <td>4866.800</td>\n",
              "      <td>232</td>\n",
              "      <td>3871022.080</td>\n",
              "      <td>464</td>\n",
              "      <td>1.398563e+07</td>\n",
              "    </tr>\n",
              "    <tr>\n",
              "      <th>419997</th>\n",
              "      <td>59</td>\n",
              "      <td>36968.220</td>\n",
              "      <td>296</td>\n",
              "      <td>3112120.320</td>\n",
              "      <td>592</td>\n",
              "      <td>4.149494e+06</td>\n",
              "    </tr>\n",
              "    <tr>\n",
              "      <th>419998</th>\n",
              "      <td>79</td>\n",
              "      <td>152842.090</td>\n",
              "      <td>397</td>\n",
              "      <td>3754246.380</td>\n",
              "      <td>795</td>\n",
              "      <td>1.021484e+07</td>\n",
              "    </tr>\n",
              "    <tr>\n",
              "      <th>419999</th>\n",
              "      <td>63</td>\n",
              "      <td>87516.450</td>\n",
              "      <td>319</td>\n",
              "      <td>649235.180</td>\n",
              "      <td>638</td>\n",
              "      <td>1.867829e+07</td>\n",
              "    </tr>\n",
              "  </tbody>\n",
              "</table>\n",
              "<p>420000 rows × 6 columns</p>\n",
              "</div>"
            ],
            "text/plain": [
              "        tamano      tiempo  tamano.1     tiempo.1  tamano.2      tiempo.2\n",
              "0        35714       0.020    178573        0.014    357147  5.000000e-03\n",
              "1        28007       0.006    140036        0.002    280072  0.000000e+00\n",
              "2        36722       0.017    183612        0.013    367225  3.000000e-03\n",
              "3        27054       0.028    135272        0.013    270545  2.200000e-02\n",
              "4        23816       0.012    119082        0.011    238164  2.800000e-02\n",
              "...        ...         ...       ...          ...       ...           ...\n",
              "419995      49    7058.940       248  1525299.200       496  2.440479e+07\n",
              "419996      46    4866.800       232  3871022.080       464  1.398563e+07\n",
              "419997      59   36968.220       296  3112120.320       592  4.149494e+06\n",
              "419998      79  152842.090       397  3754246.380       795  1.021484e+07\n",
              "419999      63   87516.450       319   649235.180       638  1.867829e+07\n",
              "\n",
              "[420000 rows x 6 columns]"
            ]
          },
          "execution_count": 77,
          "metadata": {},
          "output_type": "execute_result"
        }
      ],
      "source": [
        "#drop type column to obtain the x_train data use 6 if size included 3 if not\n",
        "x_train = df.iloc[:, 0:6]\n",
        "#x_train = df.iloc[:, 0:3]\n",
        "\n",
        "#y_train = df.iloc[:,6]\n",
        "x_train"
      ]
    },
    {
      "cell_type": "code",
      "execution_count": 78,
      "metadata": {
        "colab": {
          "base_uri": "https://localhost:8080/"
        },
        "id": "TBTucwcfa-Rd",
        "outputId": "58c332aa-1d3b-4ed7-9c39-049f27aeaee9"
      },
      "outputs": [
        {
          "data": {
            "text/plain": [
              "420000"
            ]
          },
          "execution_count": 78,
          "metadata": {},
          "output_type": "execute_result"
        }
      ],
      "source": [
        "y_train = []\n",
        "for i in range(0,len(df)):\n",
        "  high = df.tipo[i]\n",
        "  if high == 0:\n",
        "    y_train.append([1,0,0,0,0,0])\n",
        "  elif high == 1:\n",
        "    y_train.append([0,1,0,0,0,0])\n",
        "  elif high == 2:\n",
        "    y_train.append([0,0,1,0,0,0])\n",
        "  elif high == 3:\n",
        "    y_train.append([0,0,0,1,0,0])\n",
        "  elif high == 4:\n",
        "    y_train.append([0,0,0,0,1,0])\n",
        "  elif high == 5:\n",
        "    y_train.append([0,0,0,0,0,1])\n",
        "  else:\n",
        "#    x_train.delete(i)\n",
        "    print(str(i) + \" \" + str(df.tipo[i]))\n",
        "\n",
        "len(y_train)"
      ]
    },
    {
      "cell_type": "code",
      "execution_count": 79,
      "metadata": {
        "colab": {
          "base_uri": "https://localhost:8080/"
        },
        "id": "vigPuTOOKWWJ",
        "outputId": "802ac2ae-2edf-4282-ece7-2381b39ed982"
      },
      "outputs": [],
      "source": [
        "#reshape data to the type the AI model needs\n",
        "x_train, y_train = np.array(x_train), np.array(y_train)\n",
        "x_train = np.asarray(x_train).astype('float32')\n",
        "y_train = np.asarray(y_train).astype('float32')"
      ]
    },
    {
      "cell_type": "code",
      "execution_count": 80,
      "metadata": {},
      "outputs": [
        {
          "name": "stderr",
          "output_type": "stream",
          "text": [
            "C:\\Users\\migue\\AppData\\Local\\Temp\\ipykernel_6728\\373423020.py:1: FutureWarning: The error_bad_lines argument has been deprecated and will be removed in a future version. Use on_bad_lines in the future.\n",
            "\n",
            "\n",
            "  real_df = pd.read_csv(\"cosas_finales/tiempos_test.csv\", error_bad_lines=False)\n"
          ]
        }
      ],
      "source": [
        "real_df = pd.read_csv(\"cosas_finales/tiempos_test.csv\", error_bad_lines=False)\n",
        "x_train_val = real_df.iloc[:, 1:7]\n",
        "\n",
        "y_train_val = []\n",
        "for i in range(0,len(real_df)):\n",
        "  high = real_df.tipo[i]\n",
        "  if high == 0:\n",
        "    y_train_val.append([1,0,0,0,0,0])\n",
        "  elif high == 1:\n",
        "    y_train_val.append([0,1,0,0,0,0])\n",
        "  elif high == 2:\n",
        "    y_train_val.append([0,0,1,0,0,0])\n",
        "  elif high == 3:\n",
        "    y_train_val.append([0,0,0,1,0,0])\n",
        "  elif high == 4:\n",
        "    y_train_val.append([0,0,0,0,1,0])\n",
        "  elif high == 5:\n",
        "    y_train_val.append([0,0,0,0,0,1])\n",
        "  else:\n",
        "    print(str(i) + \" \" + str(real_df.tipo[i]))\n",
        "\n",
        "x_train_val = np.array(x_train_val)\n",
        "y_train_val = np.array(y_train_val)"
      ]
    },
    {
      "cell_type": "markdown",
      "metadata": {
        "id": "sdgSLkGUPoEP"
      },
      "source": [
        "Note, the most confusing thing here is that the shape of the input to the model is defined as an argument on the first hidden layer. This means that the line of code that adds the first layer is doing 2 things, defining the input or visible layer and the first hidden layer."
      ]
    },
    {
      "cell_type": "code",
      "execution_count": 94,
      "metadata": {
        "colab": {
          "base_uri": "https://localhost:8080/"
        },
        "id": "yoXkDA8DEABM",
        "outputId": "2d1fc61d-c420-4cec-d29b-fda1769387f3"
      },
      "outputs": [
        {
          "name": "stdout",
          "output_type": "stream",
          "text": [
            "Model: \"sequential_16\"\n",
            "_________________________________________________________________\n",
            " Layer (type)                Output Shape              Param #   \n",
            "=================================================================\n",
            " dense_13 (Dense)            (None, 6, 32)             64        \n",
            "                                                                 \n",
            " lstm_11 (LSTM)              (None, 6, 32)             8320      \n",
            "                                                                 \n",
            " lstm_12 (LSTM)              (None, 32)                8320      \n",
            "                                                                 \n",
            " dense_14 (Dense)            (None, 6)                 198       \n",
            "                                                                 \n",
            "=================================================================\n",
            "Total params: 16,902\n",
            "Trainable params: 16,902\n",
            "Non-trainable params: 0\n",
            "_________________________________________________________________\n"
          ]
        }
      ],
      "source": [
        "#Generate a sequential model with 4 layers \n",
        "#The last one has 6 nodes, one for each execution time order [cte, logn, n, nlogn, n2, n3]\n",
        "#The ones in between have arbitrary values obtain through testing ( still may be swapped )\n",
        "\n",
        "#redes GRU igual esta interesante\n",
        "\n",
        "model = Sequential()\n",
        "#model.add(no. de entradas de cada caso) \n",
        "#esto es asi, en la libreria keras, en el modelo secuencial, se define en input_shape el nº de nodos de la entrada\n",
        "model.add(Dense(32, activation='relu', input_shape=(x_train.shape[1], 1)))\n",
        "model.add(LSTM(32, return_sequences=True))\n",
        "model.add(LSTM(32))\n",
        "\n",
        "#model.add(Conv1D(64, 3, activation='relu'))\n",
        "#model.add(MaxPooling1D(2))\n",
        "#model.add(LSTM(200, return_sequences=True))\n",
        "#model.add(LSTM(200, return_sequences=True))\n",
        "#model.add(LSTM(200, return_sequences=True))\n",
        "#model.add(LSTM(200))\n",
        "\n",
        "#model.add(Dense(50))\n",
        "model.add(Dense(6, activation = 'softmax'))\n",
        "\n",
        "#model.add(Dense(50, activation='relu'))\n",
        "#model.add(Dense(50, activation='relu'))\n",
        "#model.add(Dense(25, activation='relu'))\n",
        "#model.add(Dense(5, activation='relu'))\n",
        "\n",
        "#Compile the model previously created with the chosen parameters\n",
        "#optimizer='sgd'\n",
        "model.compile(optimizer='adam', loss = 'categorical_crossentropy', metrics=['accuracy'])\n",
        "model.summary()"
      ]
    },
    {
      "cell_type": "code",
      "execution_count": 95,
      "metadata": {
        "colab": {
          "base_uri": "https://localhost:8080/"
        },
        "id": "5o7MJPiFEErg",
        "outputId": "beb79a13-d80c-4789-a229-351479ecb023"
      },
      "outputs": [
        {
          "name": "stdout",
          "output_type": "stream",
          "text": [
            "420000/420000 [==============================] - 1436s 3ms/step - loss: 0.9332 - accuracy: 0.4991 - val_loss: 7.9115 - val_accuracy: 0.0000e+00\n"
          ]
        },
        {
          "data": {
            "text/plain": [
              "<keras.callbacks.History at 0x1ca2069d900>"
            ]
          },
          "execution_count": 95,
          "metadata": {},
          "output_type": "execute_result"
        }
      ],
      "source": [
        "#Train the model with the 'train' portion of the data \n",
        "#The other parameters are tuned down in order to reduce train time but should be higher\n",
        "callback = EarlyStopping(monitor='val_accuracy', patience = 3, restore_best_weights=True)\n",
        "model.fit(x_train, y_train, batch_size=1, epochs=1, validation_data=(x_train_val, y_train_val))\n",
        "\n",
        "#model.fit(x_train, y_train, batch_size=16, epochs=1, validation_data=(x_train_val, y_train_val))\n"
      ]
    },
    {
      "cell_type": "code",
      "execution_count": null,
      "metadata": {
        "id": "ssl7FLGTEGxe"
      },
      "outputs": [],
      "source": [
        "#Save trained model to a file\n",
        "model.save(\"modelRNCN.h5\")"
      ]
    },
    {
      "cell_type": "code",
      "execution_count": null,
      "metadata": {
        "id": "mxrg--tPEGtE"
      },
      "outputs": [
        {
          "data": {
            "text/plain": [
              "array([[0.19331636, 0.1042387 , 0.16334958, 0.13785027, 0.23995358,\n",
              "        0.16129154],\n",
              "       [0.19331636, 0.1042387 , 0.16334958, 0.13785027, 0.23995358,\n",
              "        0.16129154],\n",
              "       [0.19331636, 0.1042387 , 0.16334958, 0.13785027, 0.23995358,\n",
              "        0.16129154],\n",
              "       [0.19331636, 0.1042387 , 0.16334958, 0.13785027, 0.23995358,\n",
              "        0.16129154],\n",
              "       [0.19331636, 0.1042387 , 0.16334958, 0.13785027, 0.23995358,\n",
              "        0.16129154],\n",
              "       [0.19331636, 0.1042387 , 0.16334958, 0.13785027, 0.23995358,\n",
              "        0.16129154],\n",
              "       [0.19331636, 0.1042387 , 0.16334958, 0.13785027, 0.23995358,\n",
              "        0.16129154],\n",
              "       [0.19331636, 0.1042387 , 0.16334958, 0.13785027, 0.23995358,\n",
              "        0.16129154],\n",
              "       [0.19331636, 0.1042387 , 0.16334958, 0.13785027, 0.23995358,\n",
              "        0.16129154],\n",
              "       [0.19331636, 0.1042387 , 0.16334958, 0.13785027, 0.23995358,\n",
              "        0.16129154],\n",
              "       [0.19331636, 0.1042387 , 0.16334958, 0.13785027, 0.23995358,\n",
              "        0.16129154],\n",
              "       [0.1941095 , 0.10463478, 0.16291742, 0.13551377, 0.24191378,\n",
              "        0.16091065],\n",
              "       [0.19331636, 0.1042387 , 0.16334958, 0.13785027, 0.23995358,\n",
              "        0.16129154],\n",
              "       [0.19331636, 0.1042387 , 0.16334958, 0.13785027, 0.23995358,\n",
              "        0.16129154],\n",
              "       [0.19331636, 0.1042387 , 0.16334958, 0.13785027, 0.23995358,\n",
              "        0.16129154]], dtype=float32)"
            ]
          },
          "execution_count": 69,
          "metadata": {},
          "output_type": "execute_result"
        }
      ],
      "source": [
        "#Use the model to predict the test data in order to find the success percent in the test data\n",
        "\n",
        "predictions = model.predict(x_train_val)\n",
        "predictions"
      ]
    },
    {
      "cell_type": "code",
      "execution_count": null,
      "metadata": {
        "id": "v1KxTQiAKnHW"
      },
      "outputs": [
        {
          "data": {
            "text/plain": [
              "array([[-1,  0,  0,  0,  1,  0],\n",
              "       [ 0, -1,  0,  0,  1,  0],\n",
              "       [ 0, -1,  0,  0,  1,  0],\n",
              "       [ 0, -1,  0,  0,  1,  0],\n",
              "       [ 0, -1,  0,  0,  1,  0],\n",
              "       [ 0,  0, -1,  0,  1,  0],\n",
              "       [ 0,  0, -1,  0,  1,  0],\n",
              "       [ 0,  0, -1,  0,  1,  0],\n",
              "       [ 0,  0, -1,  0,  1,  0],\n",
              "       [ 0,  0,  0, -1,  1,  0],\n",
              "       [ 0,  0,  0, -1,  1,  0],\n",
              "       [ 0,  0,  0,  0,  0,  0],\n",
              "       [ 0,  0,  0,  0,  0,  0],\n",
              "       [ 0,  0,  0,  0,  0,  0],\n",
              "       [ 0,  0,  0,  0,  0,  0]])"
            ]
          },
          "execution_count": 70,
          "metadata": {},
          "output_type": "execute_result"
        }
      ],
      "source": [
        "real_preds = []\n",
        "for i in range(0,len(predictions)):\n",
        "  p = predictions[i]\n",
        "  if max(p) == p[0]:\n",
        "    real_preds.append([1,0,0,0,0,0])\n",
        "  elif max(p) == p[1]:\n",
        "    real_preds.append([0,1,0,0,0,0])\n",
        "  elif max(p) == p[2]:\n",
        "    real_preds.append([0,0,1,0,0,0])\n",
        "  elif max(p) == p[3]:\n",
        "    real_preds.append([0,0,0,1,0,0])\n",
        "  elif max(p) == p[4]:\n",
        "    real_preds.append([0,0,0,0,1,0])\n",
        "  elif max(p) == p[5]:\n",
        "    real_preds.append([0,0,0,0,0,1])\n",
        "\n",
        "#Calculate error generated in the \"real\"predictions of test data\n",
        "err = real_preds - y_train_val\n",
        "err"
      ]
    },
    {
      "cell_type": "code",
      "execution_count": null,
      "metadata": {
        "id": "o8_DoFJgooFh"
      },
      "outputs": [
        {
          "name": "stdout",
          "output_type": "stream",
          "text": [
            "-114 sol: CTE  pred: N^2\n",
            "-cajasBolas sol: LOG  pred: N^2\n",
            "-167fractales sol: LOG  pred: N^2\n",
            "--OJ10019 sol: LOG  pred: N^2\n",
            "--323 sol: LOG  pred: N^2\n",
            "niniosPrimero sol: N  pred: N^2\n",
            "palmerasNieve sol: N  pred: N^2\n",
            "-palmerasNieve2 sol: N  pred: N^2\n",
            "--erasmus sol: N  pred: N^2\n",
            "mergeSort sol: NLOGN  pred: N^2\n",
            "nosInvaden sol: NLOGN  pred: N^2\n",
            "11 / 15 => real error% of 73.33333333333333\n"
          ]
        }
      ],
      "source": [
        "def numToType( t):\n",
        "  if t==0: return \"CTE\"\n",
        "  elif t==1:return \"LOG\"\n",
        "  elif t==2:return \"N\"\n",
        "  elif t==3:return \"NLOGN\"\n",
        "  elif t==4:return \"N^2\"\n",
        "  elif t==5:return \"N^3\"\n",
        "\n",
        "error_count = 0\n",
        "for i in range(0, len(err)):\n",
        "  if max(err[i]) != min(err[i]):\n",
        "    print(str(real_df.name.values[i]) + \" sol: \" + numToType(real_df.tipo.values[i]) + \"  pred: \" + numToType(np.argmax(real_preds[i])))\n",
        "    error_count += 1\n",
        "print(str(error_count) + \" / \" + str(len(real_preds)) + \" => real error% of \" + str(error_count/len(real_preds)*100))"
      ]
    },
    {
      "cell_type": "code",
      "execution_count": null,
      "metadata": {},
      "outputs": [],
      "source": [
        "expected_train = []\n",
        "for i in range(0,len(real_df)):\n",
        "  high = real_df.tipoProblema.values[i]\n",
        "  if high == 0:\n",
        "    expected_train.append([1,0,0,0,0,0])\n",
        "  elif high == 1:\n",
        "    expected_train.append([0,1,0,0,0,0])\n",
        "  elif high == 2:\n",
        "    expected_train.append([0,0,1,0,0,0])\n",
        "  elif high == 3:\n",
        "    expected_train.append([0,0,0,1,0,0])\n",
        "  elif high == 4:\n",
        "    expected_train.append([0,0,0,0,1,0])\n",
        "  elif high == 5:\n",
        "    expected_train.append([0,0,0,0,0,1])\n",
        "  else:\n",
        "    print(str(i) + \" \" + str(real_df.tipoProblema.values[i]))\n"
      ]
    },
    {
      "cell_type": "code",
      "execution_count": null,
      "metadata": {
        "id": "SE_wOWskdhol"
      },
      "outputs": [
        {
          "name": "stdout",
          "output_type": "stream",
          "text": [
            "1 / 15 => useful error% of 6.666666666666667\n",
            "0 + 14 = 14 / 15 => useful guesses% of 93.33333333333333\n"
          ]
        }
      ],
      "source": [
        "#error teniendo en cuenta la aplicacion real del programa ( no todos los fallos son fallos )\n",
        "#ejemplo: espero un lineal y entregan un n2, lo interpreto como n3, el resultado seria \"no es lineal\" y no seria un fallo\n",
        "#creo que este tipo de error_count solo se puede calcular aplicando el modelo a un problema donde espero un resultado y entregan otro, no se como hacerlo aqui\n",
        "\n",
        "#y_train = []            #tipo de ejecucion real del programa (realidad)\n",
        "#expected_train = []     #tipo de ejecucion esperado por el problema (enunciado)\n",
        "predictions_train = real_preds  #ordenes predecidos por la ia (prediccion)\n",
        "\n",
        "correct = 0\n",
        "partial_corrects = 0\n",
        "errors = 0\n",
        "for i in range(0, len(real_preds)):\n",
        "  guess_id = np.argmax(predictions_train[i])\n",
        "  answer_id = np.argmax(y_train[i])\n",
        "  expected_id = np.argmax(expected_train[i])\n",
        "  if guess_id == answer_id:\n",
        "    correct += 1\n",
        "  elif guess_id > answer_id and expected_id != answer_id:\n",
        "    partial_corrects += 1\n",
        "  else:\n",
        "    errors += 1\n",
        "\n",
        "print(str(errors) + \" / \" + str(len(real_preds)) + \" => useful error% of \" + str(errors/len(real_preds)*100))\n",
        "print(str(correct) + \" + \" + str(partial_corrects) + \" = \" + str(correct+partial_corrects)  + \" / \" + str(len(real_preds)) + \" => useful guesses% of \" + str((correct+partial_corrects)/len(real_preds)*100))\n",
        "\n",
        "#error_count = 0\n",
        "#for i in range(0, len(real_preds)):\n",
        "#  guess_id = np.argmax(real_preds[i])\n",
        "#  answer_id = np.argmax(y_test[i])\n",
        "#  if guess_id < answer_id:\n",
        "#    error_count += 1\n",
        "#print(str(error_count) + \" / \" + str(len(real_preds)) + \" => useful error% of \" + str(error_count/len(real_preds)*100))"
      ]
    }
  ],
  "metadata": {
    "colab": {
      "collapsed_sections": [],
      "name": "OrderGuessNN (NoSize) .ipynb",
      "provenance": []
    },
    "kernelspec": {
      "display_name": "Python 3",
      "name": "python3"
    },
    "language_info": {
      "codemirror_mode": {
        "name": "ipython",
        "version": 3
      },
      "file_extension": ".py",
      "mimetype": "text/x-python",
      "name": "python",
      "nbconvert_exporter": "python",
      "pygments_lexer": "ipython3",
      "version": "3.10.4"
    }
  },
  "nbformat": 4,
  "nbformat_minor": 0
}
