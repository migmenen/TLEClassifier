{
  "cells": [
    {
      "cell_type": "code",
      "execution_count": 1,
      "metadata": {
        "id": "foSjS_KzDouR"
      },
      "outputs": [],
      "source": [
        "import pandas as pd\n",
        "import numpy as np\n",
        "from sklearn import linear_model\n",
        "import math\n",
        "import tensorflow\n",
        "from sklearn.model_selection import train_test_split\n",
        "from keras.models import Sequential\n",
        "from keras.models import load_model\n",
        "from keras.layers import LSTM, Dense, Dropout\n",
        "from sklearn.preprocessing import MinMaxScaler\n",
        "from keras.losses import CategoricalCrossentropy"
      ]
    },
    {
      "cell_type": "code",
      "execution_count": 3,
      "metadata": {
        "id": "6VV8VrhyVkXf"
      },
      "outputs": [
        {
          "name": "stderr",
          "output_type": "stream",
          "text": [
            "C:\\Users\\migue\\AppData\\Local\\Temp\\ipykernel_14108\\965987508.py:1: FutureWarning: The error_bad_lines argument has been deprecated and will be removed in a future version. Use on_bad_lines in the future.\n",
            "\n",
            "\n",
            "  real_df = pd.read_csv(\"cosas_finales/casos_semireal_new_all.txt\", error_bad_lines=False)\n"
          ]
        },
        {
          "data": {
            "text/html": [
              "<div>\n",
              "<style scoped>\n",
              "    .dataframe tbody tr th:only-of-type {\n",
              "        vertical-align: middle;\n",
              "    }\n",
              "\n",
              "    .dataframe tbody tr th {\n",
              "        vertical-align: top;\n",
              "    }\n",
              "\n",
              "    .dataframe thead th {\n",
              "        text-align: right;\n",
              "    }\n",
              "</style>\n",
              "<table border=\"1\" class=\"dataframe\">\n",
              "  <thead>\n",
              "    <tr style=\"text-align: right;\">\n",
              "      <th></th>\n",
              "      <th>tamano</th>\n",
              "      <th>tiempo</th>\n",
              "      <th>tamano.1</th>\n",
              "      <th>tiempo.1</th>\n",
              "      <th>tamano.2</th>\n",
              "      <th>tiempo.2</th>\n",
              "      <th>tipoProblema</th>\n",
              "    </tr>\n",
              "  </thead>\n",
              "  <tbody>\n",
              "    <tr>\n",
              "      <th>0</th>\n",
              "      <td>2584</td>\n",
              "      <td>0.0107</td>\n",
              "      <td>11629</td>\n",
              "      <td>0.0009</td>\n",
              "      <td>24551</td>\n",
              "      <td>0.0008</td>\n",
              "      <td>0</td>\n",
              "    </tr>\n",
              "    <tr>\n",
              "      <th>1</th>\n",
              "      <td>1055</td>\n",
              "      <td>0.0031</td>\n",
              "      <td>4750</td>\n",
              "      <td>0.0015</td>\n",
              "      <td>10028</td>\n",
              "      <td>0.0012</td>\n",
              "      <td>0</td>\n",
              "    </tr>\n",
              "    <tr>\n",
              "      <th>2</th>\n",
              "      <td>2989</td>\n",
              "      <td>0.0015</td>\n",
              "      <td>13450</td>\n",
              "      <td>0.0011</td>\n",
              "      <td>28395</td>\n",
              "      <td>0.0011</td>\n",
              "      <td>0</td>\n",
              "    </tr>\n",
              "    <tr>\n",
              "      <th>3</th>\n",
              "      <td>197</td>\n",
              "      <td>0.0025</td>\n",
              "      <td>886</td>\n",
              "      <td>0.0011</td>\n",
              "      <td>1871</td>\n",
              "      <td>0.0010</td>\n",
              "      <td>0</td>\n",
              "    </tr>\n",
              "    <tr>\n",
              "      <th>4</th>\n",
              "      <td>754</td>\n",
              "      <td>0.0013</td>\n",
              "      <td>3393</td>\n",
              "      <td>0.0010</td>\n",
              "      <td>7164</td>\n",
              "      <td>0.0009</td>\n",
              "      <td>0</td>\n",
              "    </tr>\n",
              "    <tr>\n",
              "      <th>...</th>\n",
              "      <td>...</td>\n",
              "      <td>...</td>\n",
              "      <td>...</td>\n",
              "      <td>...</td>\n",
              "      <td>...</td>\n",
              "      <td>...</td>\n",
              "      <td>...</td>\n",
              "    </tr>\n",
              "    <tr>\n",
              "      <th>11993</th>\n",
              "      <td>97</td>\n",
              "      <td>556.7960</td>\n",
              "      <td>438</td>\n",
              "      <td>50874.6000</td>\n",
              "      <td>926</td>\n",
              "      <td>483428.0000</td>\n",
              "      <td>5</td>\n",
              "    </tr>\n",
              "    <tr>\n",
              "      <th>11994</th>\n",
              "      <td>99</td>\n",
              "      <td>595.7910</td>\n",
              "      <td>447</td>\n",
              "      <td>55007.4000</td>\n",
              "      <td>945</td>\n",
              "      <td>401368.0000</td>\n",
              "      <td>5</td>\n",
              "    </tr>\n",
              "    <tr>\n",
              "      <th>11995</th>\n",
              "      <td>97</td>\n",
              "      <td>387.8500</td>\n",
              "      <td>438</td>\n",
              "      <td>34860.9000</td>\n",
              "      <td>926</td>\n",
              "      <td>311789.0000</td>\n",
              "      <td>5</td>\n",
              "    </tr>\n",
              "    <tr>\n",
              "      <th>11996</th>\n",
              "      <td>98</td>\n",
              "      <td>365.8730</td>\n",
              "      <td>442</td>\n",
              "      <td>34268.2000</td>\n",
              "      <td>933</td>\n",
              "      <td>309820.0000</td>\n",
              "      <td>5</td>\n",
              "    </tr>\n",
              "    <tr>\n",
              "      <th>11997</th>\n",
              "      <td>99</td>\n",
              "      <td>367.2320</td>\n",
              "      <td>448</td>\n",
              "      <td>34689.0000</td>\n",
              "      <td>947</td>\n",
              "      <td>328842.0000</td>\n",
              "      <td>5</td>\n",
              "    </tr>\n",
              "  </tbody>\n",
              "</table>\n",
              "<p>11998 rows × 7 columns</p>\n",
              "</div>"
            ],
            "text/plain": [
              "       tamano    tiempo  tamano.1    tiempo.1  tamano.2     tiempo.2  \\\n",
              "0        2584    0.0107     11629      0.0009     24551       0.0008   \n",
              "1        1055    0.0031      4750      0.0015     10028       0.0012   \n",
              "2        2989    0.0015     13450      0.0011     28395       0.0011   \n",
              "3         197    0.0025       886      0.0011      1871       0.0010   \n",
              "4         754    0.0013      3393      0.0010      7164       0.0009   \n",
              "...       ...       ...       ...         ...       ...          ...   \n",
              "11993      97  556.7960       438  50874.6000       926  483428.0000   \n",
              "11994      99  595.7910       447  55007.4000       945  401368.0000   \n",
              "11995      97  387.8500       438  34860.9000       926  311789.0000   \n",
              "11996      98  365.8730       442  34268.2000       933  309820.0000   \n",
              "11997      99  367.2320       448  34689.0000       947  328842.0000   \n",
              "\n",
              "       tipoProblema  \n",
              "0                 0  \n",
              "1                 0  \n",
              "2                 0  \n",
              "3                 0  \n",
              "4                 0  \n",
              "...             ...  \n",
              "11993             5  \n",
              "11994             5  \n",
              "11995             5  \n",
              "11996             5  \n",
              "11997             5  \n",
              "\n",
              "[11998 rows x 7 columns]"
            ]
          },
          "execution_count": 3,
          "metadata": {},
          "output_type": "execute_result"
        }
      ],
      "source": [
        "real_df = pd.read_csv(\"cosas_finales/casos_semireal_new_all.txt\", error_bad_lines=False)\n",
        "real_df"
      ]
    },
    {
      "cell_type": "code",
      "execution_count": 4,
      "metadata": {
        "id": "KPARdwKLVudu"
      },
      "outputs": [
        {
          "data": {
            "text/html": [
              "<div>\n",
              "<style scoped>\n",
              "    .dataframe tbody tr th:only-of-type {\n",
              "        vertical-align: middle;\n",
              "    }\n",
              "\n",
              "    .dataframe tbody tr th {\n",
              "        vertical-align: top;\n",
              "    }\n",
              "\n",
              "    .dataframe thead th {\n",
              "        text-align: right;\n",
              "    }\n",
              "</style>\n",
              "<table border=\"1\" class=\"dataframe\">\n",
              "  <thead>\n",
              "    <tr style=\"text-align: right;\">\n",
              "      <th></th>\n",
              "      <th>tiempo</th>\n",
              "      <th>tamano.1</th>\n",
              "      <th>tiempo.1</th>\n",
              "      <th>tamano.2</th>\n",
              "      <th>tiempo.2</th>\n",
              "      <th>tipoProblema</th>\n",
              "    </tr>\n",
              "  </thead>\n",
              "  <tbody>\n",
              "    <tr>\n",
              "      <th>0</th>\n",
              "      <td>0.0107</td>\n",
              "      <td>11629</td>\n",
              "      <td>0.0009</td>\n",
              "      <td>24551</td>\n",
              "      <td>0.0008</td>\n",
              "      <td>0</td>\n",
              "    </tr>\n",
              "    <tr>\n",
              "      <th>1</th>\n",
              "      <td>0.0031</td>\n",
              "      <td>4750</td>\n",
              "      <td>0.0015</td>\n",
              "      <td>10028</td>\n",
              "      <td>0.0012</td>\n",
              "      <td>0</td>\n",
              "    </tr>\n",
              "    <tr>\n",
              "      <th>2</th>\n",
              "      <td>0.0015</td>\n",
              "      <td>13450</td>\n",
              "      <td>0.0011</td>\n",
              "      <td>28395</td>\n",
              "      <td>0.0011</td>\n",
              "      <td>0</td>\n",
              "    </tr>\n",
              "    <tr>\n",
              "      <th>3</th>\n",
              "      <td>0.0025</td>\n",
              "      <td>886</td>\n",
              "      <td>0.0011</td>\n",
              "      <td>1871</td>\n",
              "      <td>0.0010</td>\n",
              "      <td>0</td>\n",
              "    </tr>\n",
              "    <tr>\n",
              "      <th>4</th>\n",
              "      <td>0.0013</td>\n",
              "      <td>3393</td>\n",
              "      <td>0.0010</td>\n",
              "      <td>7164</td>\n",
              "      <td>0.0009</td>\n",
              "      <td>0</td>\n",
              "    </tr>\n",
              "    <tr>\n",
              "      <th>...</th>\n",
              "      <td>...</td>\n",
              "      <td>...</td>\n",
              "      <td>...</td>\n",
              "      <td>...</td>\n",
              "      <td>...</td>\n",
              "      <td>...</td>\n",
              "    </tr>\n",
              "    <tr>\n",
              "      <th>11993</th>\n",
              "      <td>556.7960</td>\n",
              "      <td>438</td>\n",
              "      <td>50874.6000</td>\n",
              "      <td>926</td>\n",
              "      <td>483428.0000</td>\n",
              "      <td>5</td>\n",
              "    </tr>\n",
              "    <tr>\n",
              "      <th>11994</th>\n",
              "      <td>595.7910</td>\n",
              "      <td>447</td>\n",
              "      <td>55007.4000</td>\n",
              "      <td>945</td>\n",
              "      <td>401368.0000</td>\n",
              "      <td>5</td>\n",
              "    </tr>\n",
              "    <tr>\n",
              "      <th>11995</th>\n",
              "      <td>387.8500</td>\n",
              "      <td>438</td>\n",
              "      <td>34860.9000</td>\n",
              "      <td>926</td>\n",
              "      <td>311789.0000</td>\n",
              "      <td>5</td>\n",
              "    </tr>\n",
              "    <tr>\n",
              "      <th>11996</th>\n",
              "      <td>365.8730</td>\n",
              "      <td>442</td>\n",
              "      <td>34268.2000</td>\n",
              "      <td>933</td>\n",
              "      <td>309820.0000</td>\n",
              "      <td>5</td>\n",
              "    </tr>\n",
              "    <tr>\n",
              "      <th>11997</th>\n",
              "      <td>367.2320</td>\n",
              "      <td>448</td>\n",
              "      <td>34689.0000</td>\n",
              "      <td>947</td>\n",
              "      <td>328842.0000</td>\n",
              "      <td>5</td>\n",
              "    </tr>\n",
              "  </tbody>\n",
              "</table>\n",
              "<p>11998 rows × 6 columns</p>\n",
              "</div>"
            ],
            "text/plain": [
              "         tiempo  tamano.1    tiempo.1  tamano.2     tiempo.2  tipoProblema\n",
              "0        0.0107     11629      0.0009     24551       0.0008             0\n",
              "1        0.0031      4750      0.0015     10028       0.0012             0\n",
              "2        0.0015     13450      0.0011     28395       0.0011             0\n",
              "3        0.0025       886      0.0011      1871       0.0010             0\n",
              "4        0.0013      3393      0.0010      7164       0.0009             0\n",
              "...         ...       ...         ...       ...          ...           ...\n",
              "11993  556.7960       438  50874.6000       926  483428.0000             5\n",
              "11994  595.7910       447  55007.4000       945  401368.0000             5\n",
              "11995  387.8500       438  34860.9000       926  311789.0000             5\n",
              "11996  365.8730       442  34268.2000       933  309820.0000             5\n",
              "11997  367.2320       448  34689.0000       947  328842.0000             5\n",
              "\n",
              "[11998 rows x 6 columns]"
            ]
          },
          "execution_count": 4,
          "metadata": {},
          "output_type": "execute_result"
        }
      ],
      "source": [
        "#real_df = real_df.drop(['N', 'N.1', 'N.2'], axis=1)\n",
        "x_train = real_df.iloc[:, 1:7]\n",
        "#x_train = real_df.iloc[:, 0:3]\n",
        "\n",
        "x_train"
      ]
    },
    {
      "cell_type": "code",
      "execution_count": 6,
      "metadata": {
        "id": "3pxasesF2zRs"
      },
      "outputs": [
        {
          "ename": "AttributeError",
          "evalue": "'DataFrame' object has no attribute 'tipo'",
          "output_type": "error",
          "traceback": [
            "\u001b[1;31m---------------------------------------------------------------------------\u001b[0m",
            "\u001b[1;31mAttributeError\u001b[0m                            Traceback (most recent call last)",
            "\u001b[1;32mc:\\Users\\migue\\OneDrive\\Documentos\\VSCODE_WORSPACE\\NeuralNet_TFG\\OrderGuessNN_LoadModel.ipynb Cell 4'\u001b[0m in \u001b[0;36m<cell line: 2>\u001b[1;34m()\u001b[0m\n\u001b[0;32m      <a href='vscode-notebook-cell:/c%3A/Users/migue/OneDrive/Documentos/VSCODE_WORSPACE/NeuralNet_TFG/OrderGuessNN_LoadModel.ipynb#ch0000003?line=0'>1</a>\u001b[0m y_train \u001b[39m=\u001b[39m []\n\u001b[0;32m      <a href='vscode-notebook-cell:/c%3A/Users/migue/OneDrive/Documentos/VSCODE_WORSPACE/NeuralNet_TFG/OrderGuessNN_LoadModel.ipynb#ch0000003?line=1'>2</a>\u001b[0m \u001b[39mfor\u001b[39;00m i \u001b[39min\u001b[39;00m \u001b[39mrange\u001b[39m(\u001b[39m0\u001b[39m,\u001b[39mlen\u001b[39m(real_df)):\n\u001b[1;32m----> <a href='vscode-notebook-cell:/c%3A/Users/migue/OneDrive/Documentos/VSCODE_WORSPACE/NeuralNet_TFG/OrderGuessNN_LoadModel.ipynb#ch0000003?line=2'>3</a>\u001b[0m   high \u001b[39m=\u001b[39m real_df\u001b[39m.\u001b[39;49mtipo\u001b[39m.\u001b[39mvalues[i]\n\u001b[0;32m      <a href='vscode-notebook-cell:/c%3A/Users/migue/OneDrive/Documentos/VSCODE_WORSPACE/NeuralNet_TFG/OrderGuessNN_LoadModel.ipynb#ch0000003?line=3'>4</a>\u001b[0m   \u001b[39mif\u001b[39;00m high \u001b[39m==\u001b[39m \u001b[39m0\u001b[39m:\n\u001b[0;32m      <a href='vscode-notebook-cell:/c%3A/Users/migue/OneDrive/Documentos/VSCODE_WORSPACE/NeuralNet_TFG/OrderGuessNN_LoadModel.ipynb#ch0000003?line=4'>5</a>\u001b[0m     y_train\u001b[39m.\u001b[39mappend([\u001b[39m1\u001b[39m,\u001b[39m0\u001b[39m,\u001b[39m0\u001b[39m,\u001b[39m0\u001b[39m,\u001b[39m0\u001b[39m,\u001b[39m0\u001b[39m])\n",
            "File \u001b[1;32m~\\AppData\\Local\\Programs\\Python\\Python310\\lib\\site-packages\\pandas\\core\\generic.py:5575\u001b[0m, in \u001b[0;36mNDFrame.__getattr__\u001b[1;34m(self, name)\u001b[0m\n\u001b[0;32m   <a href='file:///c%3A/Users/migue/AppData/Local/Programs/Python/Python310/lib/site-packages/pandas/core/generic.py?line=5567'>5568</a>\u001b[0m \u001b[39mif\u001b[39;00m (\n\u001b[0;32m   <a href='file:///c%3A/Users/migue/AppData/Local/Programs/Python/Python310/lib/site-packages/pandas/core/generic.py?line=5568'>5569</a>\u001b[0m     name \u001b[39mnot\u001b[39;00m \u001b[39min\u001b[39;00m \u001b[39mself\u001b[39m\u001b[39m.\u001b[39m_internal_names_set\n\u001b[0;32m   <a href='file:///c%3A/Users/migue/AppData/Local/Programs/Python/Python310/lib/site-packages/pandas/core/generic.py?line=5569'>5570</a>\u001b[0m     \u001b[39mand\u001b[39;00m name \u001b[39mnot\u001b[39;00m \u001b[39min\u001b[39;00m \u001b[39mself\u001b[39m\u001b[39m.\u001b[39m_metadata\n\u001b[0;32m   <a href='file:///c%3A/Users/migue/AppData/Local/Programs/Python/Python310/lib/site-packages/pandas/core/generic.py?line=5570'>5571</a>\u001b[0m     \u001b[39mand\u001b[39;00m name \u001b[39mnot\u001b[39;00m \u001b[39min\u001b[39;00m \u001b[39mself\u001b[39m\u001b[39m.\u001b[39m_accessors\n\u001b[0;32m   <a href='file:///c%3A/Users/migue/AppData/Local/Programs/Python/Python310/lib/site-packages/pandas/core/generic.py?line=5571'>5572</a>\u001b[0m     \u001b[39mand\u001b[39;00m \u001b[39mself\u001b[39m\u001b[39m.\u001b[39m_info_axis\u001b[39m.\u001b[39m_can_hold_identifiers_and_holds_name(name)\n\u001b[0;32m   <a href='file:///c%3A/Users/migue/AppData/Local/Programs/Python/Python310/lib/site-packages/pandas/core/generic.py?line=5572'>5573</a>\u001b[0m ):\n\u001b[0;32m   <a href='file:///c%3A/Users/migue/AppData/Local/Programs/Python/Python310/lib/site-packages/pandas/core/generic.py?line=5573'>5574</a>\u001b[0m     \u001b[39mreturn\u001b[39;00m \u001b[39mself\u001b[39m[name]\n\u001b[1;32m-> <a href='file:///c%3A/Users/migue/AppData/Local/Programs/Python/Python310/lib/site-packages/pandas/core/generic.py?line=5574'>5575</a>\u001b[0m \u001b[39mreturn\u001b[39;00m \u001b[39mobject\u001b[39;49m\u001b[39m.\u001b[39;49m\u001b[39m__getattribute__\u001b[39;49m(\u001b[39mself\u001b[39;49m, name)\n",
            "\u001b[1;31mAttributeError\u001b[0m: 'DataFrame' object has no attribute 'tipo'"
          ]
        }
      ],
      "source": [
        "y_train = []\n",
        "for i in range(0,len(real_df)):\n",
        "  high = real_df.tipoProblema.values[i]\n",
        "  if high == 0:\n",
        "    y_train.append([1,0,0,0,0,0])\n",
        "  elif high == 1:\n",
        "    y_train.append([0,1,0,0,0,0])\n",
        "  elif high == 2:\n",
        "    y_train.append([0,0,1,0,0,0])\n",
        "  elif high == 3:\n",
        "    y_train.append([0,0,0,1,0,0])\n",
        "  elif high == 4:\n",
        "    y_train.append([0,0,0,0,1,0])\n",
        "  elif high == 5:\n",
        "    y_train.append([0,0,0,0,0,1])\n",
        "  else:\n",
        "    print(str(i) + \" \" + str(real_df.tipoProblema[i]))\n",
        "\n",
        "#len(y_train)"
      ]
    },
    {
      "cell_type": "code",
      "execution_count": null,
      "metadata": {
        "id": "hA7dF7iFwSEa"
      },
      "outputs": [],
      "source": [
        "x_train, y_train = np.array(x_train), np.array(y_train)\n",
        "x_train = np.asarray(x_train).astype('float32')\n",
        "y_train = np.asarray(y_train).astype('float32')\n",
        "#y_train"
      ]
    },
    {
      "cell_type": "code",
      "execution_count": null,
      "metadata": {
        "id": "jo98dadjEnl9"
      },
      "outputs": [
        {
          "name": "stdout",
          "output_type": "stream",
          "text": [
            "Model: \"sequential\"\n",
            "_________________________________________________________________\n",
            " Layer (type)                Output Shape              Param #   \n",
            "=================================================================\n",
            " lstm (LSTM)                 (None, 6, 200)            161600    \n",
            "                                                                 \n",
            " dropout (Dropout)           (None, 6, 200)            0         \n",
            "                                                                 \n",
            " lstm_1 (LSTM)               (None, 6, 200)            320800    \n",
            "                                                                 \n",
            " dropout_1 (Dropout)         (None, 6, 200)            0         \n",
            "                                                                 \n",
            " lstm_2 (LSTM)               (None, 6, 200)            320800    \n",
            "                                                                 \n",
            " dropout_2 (Dropout)         (None, 6, 200)            0         \n",
            "                                                                 \n",
            " lstm_3 (LSTM)               (None, 200)               320800    \n",
            "                                                                 \n",
            " dropout_3 (Dropout)         (None, 200)               0         \n",
            "                                                                 \n",
            " dense (Dense)               (None, 6)                 1206      \n",
            "                                                                 \n",
            "=================================================================\n",
            "Total params: 1,125,206\n",
            "Trainable params: 1,125,206\n",
            "Non-trainable params: 0\n",
            "_________________________________________________________________\n"
          ]
        }
      ],
      "source": [
        "model = load_model(\"cosas_finales/model3-8(2).h5\")\n",
        "model.summary()"
      ]
    },
    {
      "cell_type": "code",
      "execution_count": null,
      "metadata": {
        "id": "QCWrBSa1YtDe"
      },
      "outputs": [],
      "source": [
        "real_df_preds = model.predict(x_train)\n",
        "#real_df_preds"
      ]
    },
    {
      "cell_type": "code",
      "execution_count": null,
      "metadata": {
        "id": "eVkGo5Es24gA"
      },
      "outputs": [],
      "source": [
        "err = real_df_preds - y_train\n",
        "#err"
      ]
    },
    {
      "cell_type": "code",
      "execution_count": null,
      "metadata": {
        "id": "5JXaGWoEv6uy"
      },
      "outputs": [],
      "source": [
        "real_preds = []\n",
        "for i in range(0,len(real_df_preds)):\n",
        "  p = real_df_preds[i]\n",
        "  if max(p) == p[0]:\n",
        "    real_preds.append([1,0,0,0,0,0])\n",
        "  elif max(p) == p[1]:\n",
        "    real_preds.append([0,1,0,0,0,0])\n",
        "  elif max(p) == p[2]:\n",
        "    real_preds.append([0,0,1,0,0,0])\n",
        "  elif max(p) == p[3]:\n",
        "    real_preds.append([0,0,0,1,0,0])\n",
        "  elif max(p) == p[4]:\n",
        "    real_preds.append([0,0,0,0,1,0])\n",
        "  elif max(p) == p[5]:\n",
        "    real_preds.append([0,0,0,0,0,1])\n",
        "\n",
        "#real_preds"
      ]
    },
    {
      "cell_type": "code",
      "execution_count": null,
      "metadata": {
        "id": "4dSEvJLOwFvG"
      },
      "outputs": [
        {
          "data": {
            "text/plain": [
              "array([[-1.,  1.,  0.,  0.,  0.,  0.],\n",
              "       [ 1., -1.,  0.,  0.,  0.,  0.],\n",
              "       [ 1., -1.,  0.,  0.,  0.,  0.],\n",
              "       [ 0., -1.,  0.,  0.,  0.,  1.],\n",
              "       [ 1., -1.,  0.,  0.,  0.,  0.],\n",
              "       [ 0.,  0., -1.,  0.,  0.,  1.],\n",
              "       [ 0.,  0.,  0.,  0.,  0.,  0.],\n",
              "       [ 0.,  0.,  0.,  0.,  0.,  0.],\n",
              "       [ 0.,  0.,  0.,  0.,  0.,  0.],\n",
              "       [ 0.,  0.,  0.,  0.,  0.,  0.],\n",
              "       [ 0.,  0.,  0.,  0.,  0.,  0.],\n",
              "       [ 0.,  0.,  0.,  0., -1.,  1.],\n",
              "       [ 0.,  0.,  0.,  0.,  0.,  0.],\n",
              "       [ 0.,  0.,  0.,  0., -1.,  1.],\n",
              "       [ 0.,  0.,  0.,  0., -1.,  1.]])"
            ]
          },
          "execution_count": 67,
          "metadata": {},
          "output_type": "execute_result"
        }
      ],
      "source": [
        "err = real_preds - y_train\n",
        "err"
      ]
    },
    {
      "cell_type": "markdown",
      "metadata": {
        "id": "RpQDYgtjlRew"
      },
      "source": [
        "añadir O(1).\n",
        "t2 - t1 y t3 - t1 => plot (esto no hace falta era para el debug)"
      ]
    },
    {
      "cell_type": "code",
      "execution_count": null,
      "metadata": {
        "id": "o8_DoFJgooFh"
      },
      "outputs": [
        {
          "name": "stdout",
          "output_type": "stream",
          "text": [
            "-114 sol: CTE  pred: LOG\n",
            "-cajasBolas sol: LOG  pred: CTE\n",
            "-167fractales sol: LOG  pred: CTE\n",
            "--OJ10019 sol: LOG  pred: N^3\n",
            "--323 sol: LOG  pred: CTE\n",
            "niniosPrimero sol: N  pred: N^3\n",
            "--cazaTesoros sol: N^2  pred: N^3\n",
            "tiroPalindromo sol: N^2  pred: N^3\n",
            "---probTestUsefulErr sol: N^2  pred: N^3\n",
            "9 / 15 => real error% of 60.0\n"
          ]
        }
      ],
      "source": [
        "def numToType( t):\n",
        "  if t==0: return \"CTE\"\n",
        "  elif t==1:return \"LOG\"\n",
        "  elif t==2:return \"N\"\n",
        "  elif t==3:return \"NLOGN\"\n",
        "  elif t==4:return \"N^2\"\n",
        "  elif t==5:return \"N^3\"\n",
        "\n",
        "error_count = 0\n",
        "for i in range(0, len(err)):\n",
        "  if max(err[i]) != min(err[i]):\n",
        "    print(str(real_df.name.values[i]) + \" sol: \" + numToType(real_df.tipo.values[i]) + \"  pred: \" + numToType(np.argmax(real_preds[i])))\n",
        "    error_count += 1\n",
        "print(str(error_count) + \" / \" + str(len(real_preds)) + \" => real error% of \" + str(error_count/len(real_preds)*100))"
      ]
    },
    {
      "cell_type": "code",
      "execution_count": null,
      "metadata": {},
      "outputs": [],
      "source": [
        "expected_train = []\n",
        "for i in range(0,len(real_df)):\n",
        "  high = real_df.tipoProblema.values[i]\n",
        "  if high == 0:\n",
        "    expected_train.append([1,0,0,0,0,0])\n",
        "  elif high == 1:\n",
        "    expected_train.append([0,1,0,0,0,0])\n",
        "  elif high == 2:\n",
        "    expected_train.append([0,0,1,0,0,0])\n",
        "  elif high == 3:\n",
        "    expected_train.append([0,0,0,1,0,0])\n",
        "  elif high == 4:\n",
        "    expected_train.append([0,0,0,0,1,0])\n",
        "  elif high == 5:\n",
        "    expected_train.append([0,0,0,0,0,1])\n",
        "  else:\n",
        "    print(str(i) + \" \" + str(real_df.tipo.values[i]))\n"
      ]
    },
    {
      "cell_type": "code",
      "execution_count": null,
      "metadata": {},
      "outputs": [
        {
          "name": "stdout",
          "output_type": "stream",
          "text": [
            "8 / 15 => useful error% of 53.333333333333336\n",
            "6 + 1 = 7 / 15 => useful guesses% of 46.666666666666664\n"
          ]
        }
      ],
      "source": [
        "#error teniendo en cuenta la aplicacion real del programa ( no todos los fallos son fallos )\n",
        "#ejemplo: espero un lineal y entregan un n2, lo interpreto como n3, el resultado seria \"no es lineal\" y no seria un fallo\n",
        "#creo que este tipo de error_count solo se puede calcular aplicando el modelo a un problema donde espero un resultado y entregan otro, no se como hacerlo aqui\n",
        "\n",
        "#y_train = []            #tipo de ejecucion real del programa\n",
        "#expected_train = []     #tipo de ejecucion esperado por el problema\n",
        "predictions_train = real_preds  #ordenes predecidos por la ia\n",
        "\n",
        "correct = 0\n",
        "partial_corrects = 0\n",
        "errors = 0\n",
        "for i in range(0, len(real_preds)):\n",
        "  guess_id = np.argmax(predictions_train[i])\n",
        "  answer_id = np.argmax(y_train[i])\n",
        "  expected_id = np.argmax(expected_train[i])\n",
        "  if guess_id == answer_id:\n",
        "    correct += 1\n",
        "  elif guess_id > answer_id and expected_id != answer_id:\n",
        "    partial_corrects += 1\n",
        "  else:\n",
        "    errors += 1\n",
        "\n",
        "print(str(errors) + \" / \" + str(len(real_preds)) + \" => useful error% of \" + str(errors/len(real_preds)*100))\n",
        "print(str(correct) + \" + \" + str(partial_corrects) + \" = \" + str(correct+partial_corrects)  + \" / \" + str(len(real_preds)) + \" => useful guesses% of \" + str((correct+partial_corrects)/len(real_preds)*100))\n"
      ]
    }
  ],
  "metadata": {
    "colab": {
      "collapsed_sections": [],
      "name": "OrderGuessNN (NoSize) .ipynb",
      "provenance": []
    },
    "kernelspec": {
      "display_name": "Python 3",
      "name": "python3"
    },
    "language_info": {
      "codemirror_mode": {
        "name": "ipython",
        "version": 3
      },
      "file_extension": ".py",
      "mimetype": "text/x-python",
      "name": "python",
      "nbconvert_exporter": "python",
      "pygments_lexer": "ipython3",
      "version": "3.10.4"
    }
  },
  "nbformat": 4,
  "nbformat_minor": 0
}
