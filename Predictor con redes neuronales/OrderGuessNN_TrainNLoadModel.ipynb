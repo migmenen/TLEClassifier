{
  "cells": [
    {
      "cell_type": "code",
      "execution_count": 1,
      "metadata": {
        "id": "foSjS_KzDouR"
      },
      "outputs": [
        {
          "ename": "KeyboardInterrupt",
          "evalue": "",
          "output_type": "error",
          "traceback": [
            "\u001b[1;31m---------------------------------------------------------------------------\u001b[0m",
            "\u001b[1;31mKeyboardInterrupt\u001b[0m                         Traceback (most recent call last)",
            "\u001b[1;32mc:\\Users\\migue\\OneDrive\\Documentos\\VSCODE_WORSPACE\\NeuralNet_TFG\\OrderGuessNN_TrainNLoadModel.ipynb Cell 1'\u001b[0m in \u001b[0;36m<cell line: 3>\u001b[1;34m()\u001b[0m\n\u001b[0;32m      <a href='vscode-notebook-cell:/c%3A/Users/migue/OneDrive/Documentos/VSCODE_WORSPACE/NeuralNet_TFG/OrderGuessNN_TrainNLoadModel.ipynb#ch0000000?line=0'>1</a>\u001b[0m \u001b[39mimport\u001b[39;00m \u001b[39mpandas\u001b[39;00m \u001b[39mas\u001b[39;00m \u001b[39mpd\u001b[39;00m\n\u001b[0;32m      <a href='vscode-notebook-cell:/c%3A/Users/migue/OneDrive/Documentos/VSCODE_WORSPACE/NeuralNet_TFG/OrderGuessNN_TrainNLoadModel.ipynb#ch0000000?line=1'>2</a>\u001b[0m \u001b[39mimport\u001b[39;00m \u001b[39mnumpy\u001b[39;00m \u001b[39mas\u001b[39;00m \u001b[39mnp\u001b[39;00m\n\u001b[1;32m----> <a href='vscode-notebook-cell:/c%3A/Users/migue/OneDrive/Documentos/VSCODE_WORSPACE/NeuralNet_TFG/OrderGuessNN_TrainNLoadModel.ipynb#ch0000000?line=2'>3</a>\u001b[0m \u001b[39mfrom\u001b[39;00m \u001b[39msklearn\u001b[39;00m \u001b[39mimport\u001b[39;00m linear_model\n\u001b[0;32m      <a href='vscode-notebook-cell:/c%3A/Users/migue/OneDrive/Documentos/VSCODE_WORSPACE/NeuralNet_TFG/OrderGuessNN_TrainNLoadModel.ipynb#ch0000000?line=3'>4</a>\u001b[0m \u001b[39mimport\u001b[39;00m \u001b[39mmath\u001b[39;00m\n\u001b[0;32m      <a href='vscode-notebook-cell:/c%3A/Users/migue/OneDrive/Documentos/VSCODE_WORSPACE/NeuralNet_TFG/OrderGuessNN_TrainNLoadModel.ipynb#ch0000000?line=4'>5</a>\u001b[0m \u001b[39mfrom\u001b[39;00m \u001b[39msklearn\u001b[39;00m\u001b[39m.\u001b[39;00m\u001b[39mmodel_selection\u001b[39;00m \u001b[39mimport\u001b[39;00m train_test_split\n",
            "File \u001b[1;32m~\\AppData\\Local\\Programs\\Python\\Python310\\lib\\site-packages\\sklearn\\__init__.py:82\u001b[0m, in \u001b[0;36m<module>\u001b[1;34m\u001b[0m\n\u001b[0;32m     <a href='file:///c%3A/Users/migue/AppData/Local/Programs/Python/Python310/lib/site-packages/sklearn/__init__.py?line=79'>80</a>\u001b[0m \u001b[39mfrom\u001b[39;00m \u001b[39m.\u001b[39;00m \u001b[39mimport\u001b[39;00m _distributor_init  \u001b[39m# noqa: F401\u001b[39;00m\n\u001b[0;32m     <a href='file:///c%3A/Users/migue/AppData/Local/Programs/Python/Python310/lib/site-packages/sklearn/__init__.py?line=80'>81</a>\u001b[0m \u001b[39mfrom\u001b[39;00m \u001b[39m.\u001b[39;00m \u001b[39mimport\u001b[39;00m __check_build  \u001b[39m# noqa: F401\u001b[39;00m\n\u001b[1;32m---> <a href='file:///c%3A/Users/migue/AppData/Local/Programs/Python/Python310/lib/site-packages/sklearn/__init__.py?line=81'>82</a>\u001b[0m \u001b[39mfrom\u001b[39;00m \u001b[39m.\u001b[39;00m\u001b[39mbase\u001b[39;00m \u001b[39mimport\u001b[39;00m clone\n\u001b[0;32m     <a href='file:///c%3A/Users/migue/AppData/Local/Programs/Python/Python310/lib/site-packages/sklearn/__init__.py?line=82'>83</a>\u001b[0m \u001b[39mfrom\u001b[39;00m \u001b[39m.\u001b[39;00m\u001b[39mutils\u001b[39;00m\u001b[39m.\u001b[39;00m\u001b[39m_show_versions\u001b[39;00m \u001b[39mimport\u001b[39;00m show_versions\n\u001b[0;32m     <a href='file:///c%3A/Users/migue/AppData/Local/Programs/Python/Python310/lib/site-packages/sklearn/__init__.py?line=84'>85</a>\u001b[0m __all__ \u001b[39m=\u001b[39m [\n\u001b[0;32m     <a href='file:///c%3A/Users/migue/AppData/Local/Programs/Python/Python310/lib/site-packages/sklearn/__init__.py?line=85'>86</a>\u001b[0m     \u001b[39m\"\u001b[39m\u001b[39mcalibration\u001b[39m\u001b[39m\"\u001b[39m,\n\u001b[0;32m     <a href='file:///c%3A/Users/migue/AppData/Local/Programs/Python/Python310/lib/site-packages/sklearn/__init__.py?line=86'>87</a>\u001b[0m     \u001b[39m\"\u001b[39m\u001b[39mcluster\u001b[39m\u001b[39m\"\u001b[39m,\n\u001b[1;32m   (...)\u001b[0m\n\u001b[0;32m    <a href='file:///c%3A/Users/migue/AppData/Local/Programs/Python/Python310/lib/site-packages/sklearn/__init__.py?line=127'>128</a>\u001b[0m     \u001b[39m\"\u001b[39m\u001b[39mshow_versions\u001b[39m\u001b[39m\"\u001b[39m,\n\u001b[0;32m    <a href='file:///c%3A/Users/migue/AppData/Local/Programs/Python/Python310/lib/site-packages/sklearn/__init__.py?line=128'>129</a>\u001b[0m ]\n",
            "File \u001b[1;32m~\\AppData\\Local\\Programs\\Python\\Python310\\lib\\site-packages\\sklearn\\base.py:17\u001b[0m, in \u001b[0;36m<module>\u001b[1;34m\u001b[0m\n\u001b[0;32m     <a href='file:///c%3A/Users/migue/AppData/Local/Programs/Python/Python310/lib/site-packages/sklearn/base.py?line=14'>15</a>\u001b[0m \u001b[39mfrom\u001b[39;00m \u001b[39m.\u001b[39;00m \u001b[39mimport\u001b[39;00m __version__\n\u001b[0;32m     <a href='file:///c%3A/Users/migue/AppData/Local/Programs/Python/Python310/lib/site-packages/sklearn/base.py?line=15'>16</a>\u001b[0m \u001b[39mfrom\u001b[39;00m \u001b[39m.\u001b[39;00m\u001b[39m_config\u001b[39;00m \u001b[39mimport\u001b[39;00m get_config\n\u001b[1;32m---> <a href='file:///c%3A/Users/migue/AppData/Local/Programs/Python/Python310/lib/site-packages/sklearn/base.py?line=16'>17</a>\u001b[0m \u001b[39mfrom\u001b[39;00m \u001b[39m.\u001b[39;00m\u001b[39mutils\u001b[39;00m \u001b[39mimport\u001b[39;00m _IS_32BIT\n\u001b[0;32m     <a href='file:///c%3A/Users/migue/AppData/Local/Programs/Python/Python310/lib/site-packages/sklearn/base.py?line=17'>18</a>\u001b[0m \u001b[39mfrom\u001b[39;00m \u001b[39m.\u001b[39;00m\u001b[39mutils\u001b[39;00m\u001b[39m.\u001b[39;00m\u001b[39m_tags\u001b[39;00m \u001b[39mimport\u001b[39;00m (\n\u001b[0;32m     <a href='file:///c%3A/Users/migue/AppData/Local/Programs/Python/Python310/lib/site-packages/sklearn/base.py?line=18'>19</a>\u001b[0m     _DEFAULT_TAGS,\n\u001b[0;32m     <a href='file:///c%3A/Users/migue/AppData/Local/Programs/Python/Python310/lib/site-packages/sklearn/base.py?line=19'>20</a>\u001b[0m     _safe_tags,\n\u001b[0;32m     <a href='file:///c%3A/Users/migue/AppData/Local/Programs/Python/Python310/lib/site-packages/sklearn/base.py?line=20'>21</a>\u001b[0m )\n\u001b[0;32m     <a href='file:///c%3A/Users/migue/AppData/Local/Programs/Python/Python310/lib/site-packages/sklearn/base.py?line=21'>22</a>\u001b[0m \u001b[39mfrom\u001b[39;00m \u001b[39m.\u001b[39;00m\u001b[39mutils\u001b[39;00m\u001b[39m.\u001b[39;00m\u001b[39mvalidation\u001b[39;00m \u001b[39mimport\u001b[39;00m check_X_y\n",
            "File \u001b[1;32m~\\AppData\\Local\\Programs\\Python\\Python310\\lib\\site-packages\\sklearn\\utils\\__init__.py:28\u001b[0m, in \u001b[0;36m<module>\u001b[1;34m\u001b[0m\n\u001b[0;32m     <a href='file:///c%3A/Users/migue/AppData/Local/Programs/Python/Python310/lib/site-packages/sklearn/utils/__init__.py?line=25'>26</a>\u001b[0m \u001b[39mfrom\u001b[39;00m \u001b[39m.\u001b[39;00m\u001b[39m.\u001b[39;00m\u001b[39mexceptions\u001b[39;00m \u001b[39mimport\u001b[39;00m DataConversionWarning\n\u001b[0;32m     <a href='file:///c%3A/Users/migue/AppData/Local/Programs/Python/Python310/lib/site-packages/sklearn/utils/__init__.py?line=26'>27</a>\u001b[0m \u001b[39mfrom\u001b[39;00m \u001b[39m.\u001b[39;00m\u001b[39mdeprecation\u001b[39;00m \u001b[39mimport\u001b[39;00m deprecated\n\u001b[1;32m---> <a href='file:///c%3A/Users/migue/AppData/Local/Programs/Python/Python310/lib/site-packages/sklearn/utils/__init__.py?line=27'>28</a>\u001b[0m \u001b[39mfrom\u001b[39;00m \u001b[39m.\u001b[39;00m\u001b[39mfixes\u001b[39;00m \u001b[39mimport\u001b[39;00m np_version, parse_version\n\u001b[0;32m     <a href='file:///c%3A/Users/migue/AppData/Local/Programs/Python/Python310/lib/site-packages/sklearn/utils/__init__.py?line=28'>29</a>\u001b[0m \u001b[39mfrom\u001b[39;00m \u001b[39m.\u001b[39;00m\u001b[39m_estimator_html_repr\u001b[39;00m \u001b[39mimport\u001b[39;00m estimator_html_repr\n\u001b[0;32m     <a href='file:///c%3A/Users/migue/AppData/Local/Programs/Python/Python310/lib/site-packages/sklearn/utils/__init__.py?line=29'>30</a>\u001b[0m \u001b[39mfrom\u001b[39;00m \u001b[39m.\u001b[39;00m\u001b[39mvalidation\u001b[39;00m \u001b[39mimport\u001b[39;00m (\n\u001b[0;32m     <a href='file:///c%3A/Users/migue/AppData/Local/Programs/Python/Python310/lib/site-packages/sklearn/utils/__init__.py?line=30'>31</a>\u001b[0m     as_float_array,\n\u001b[0;32m     <a href='file:///c%3A/Users/migue/AppData/Local/Programs/Python/Python310/lib/site-packages/sklearn/utils/__init__.py?line=31'>32</a>\u001b[0m     assert_all_finite,\n\u001b[1;32m   (...)\u001b[0m\n\u001b[0;32m     <a href='file:///c%3A/Users/migue/AppData/Local/Programs/Python/Python310/lib/site-packages/sklearn/utils/__init__.py?line=39'>40</a>\u001b[0m     check_scalar,\n\u001b[0;32m     <a href='file:///c%3A/Users/migue/AppData/Local/Programs/Python/Python310/lib/site-packages/sklearn/utils/__init__.py?line=40'>41</a>\u001b[0m )\n",
            "File \u001b[1;32m~\\AppData\\Local\\Programs\\Python\\Python310\\lib\\site-packages\\sklearn\\utils\\fixes.py:20\u001b[0m, in \u001b[0;36m<module>\u001b[1;34m\u001b[0m\n\u001b[0;32m     <a href='file:///c%3A/Users/migue/AppData/Local/Programs/Python/Python310/lib/site-packages/sklearn/utils/fixes.py?line=17'>18</a>\u001b[0m \u001b[39mimport\u001b[39;00m \u001b[39mscipy\u001b[39;00m\u001b[39m.\u001b[39;00m\u001b[39msparse\u001b[39;00m \u001b[39mas\u001b[39;00m \u001b[39msp\u001b[39;00m\n\u001b[0;32m     <a href='file:///c%3A/Users/migue/AppData/Local/Programs/Python/Python310/lib/site-packages/sklearn/utils/fixes.py?line=18'>19</a>\u001b[0m \u001b[39mimport\u001b[39;00m \u001b[39mscipy\u001b[39;00m\n\u001b[1;32m---> <a href='file:///c%3A/Users/migue/AppData/Local/Programs/Python/Python310/lib/site-packages/sklearn/utils/fixes.py?line=19'>20</a>\u001b[0m \u001b[39mimport\u001b[39;00m \u001b[39mscipy\u001b[39;00m\u001b[39m.\u001b[39;00m\u001b[39mstats\u001b[39;00m\n\u001b[0;32m     <a href='file:///c%3A/Users/migue/AppData/Local/Programs/Python/Python310/lib/site-packages/sklearn/utils/fixes.py?line=20'>21</a>\u001b[0m \u001b[39mfrom\u001b[39;00m \u001b[39mscipy\u001b[39;00m\u001b[39m.\u001b[39;00m\u001b[39msparse\u001b[39;00m\u001b[39m.\u001b[39;00m\u001b[39mlinalg\u001b[39;00m \u001b[39mimport\u001b[39;00m lsqr \u001b[39mas\u001b[39;00m sparse_lsqr  \u001b[39m# noqa\u001b[39;00m\n\u001b[0;32m     <a href='file:///c%3A/Users/migue/AppData/Local/Programs/Python/Python310/lib/site-packages/sklearn/utils/fixes.py?line=21'>22</a>\u001b[0m \u001b[39mimport\u001b[39;00m \u001b[39mthreadpoolctl\u001b[39;00m\n",
            "File \u001b[1;32m~\\AppData\\Local\\Programs\\Python\\Python310\\lib\\site-packages\\scipy\\stats\\__init__.py:453\u001b[0m, in \u001b[0;36m<module>\u001b[1;34m\u001b[0m\n\u001b[0;32m      <a href='file:///c%3A/Users/migue/AppData/Local/Programs/Python/Python310/lib/site-packages/scipy/stats/__init__.py?line=0'>1</a>\u001b[0m \u001b[39m\"\"\"\u001b[39;00m\n\u001b[0;32m      <a href='file:///c%3A/Users/migue/AppData/Local/Programs/Python/Python310/lib/site-packages/scipy/stats/__init__.py?line=1'>2</a>\u001b[0m \u001b[39m.. _statsrefmanual:\u001b[39;00m\n\u001b[0;32m      <a href='file:///c%3A/Users/migue/AppData/Local/Programs/Python/Python310/lib/site-packages/scipy/stats/__init__.py?line=2'>3</a>\u001b[0m \n\u001b[1;32m   (...)\u001b[0m\n\u001b[0;32m    <a href='file:///c%3A/Users/migue/AppData/Local/Programs/Python/Python310/lib/site-packages/scipy/stats/__init__.py?line=449'>450</a>\u001b[0m \n\u001b[0;32m    <a href='file:///c%3A/Users/migue/AppData/Local/Programs/Python/Python310/lib/site-packages/scipy/stats/__init__.py?line=450'>451</a>\u001b[0m \u001b[39m\"\"\"\u001b[39;00m\n\u001b[1;32m--> <a href='file:///c%3A/Users/migue/AppData/Local/Programs/Python/Python310/lib/site-packages/scipy/stats/__init__.py?line=452'>453</a>\u001b[0m \u001b[39mfrom\u001b[39;00m \u001b[39m.\u001b[39;00m\u001b[39m_stats_py\u001b[39;00m \u001b[39mimport\u001b[39;00m \u001b[39m*\u001b[39m\n\u001b[0;32m    <a href='file:///c%3A/Users/migue/AppData/Local/Programs/Python/Python310/lib/site-packages/scipy/stats/__init__.py?line=453'>454</a>\u001b[0m \u001b[39mfrom\u001b[39;00m \u001b[39m.\u001b[39;00m\u001b[39m_variation\u001b[39;00m \u001b[39mimport\u001b[39;00m variation\n\u001b[0;32m    <a href='file:///c%3A/Users/migue/AppData/Local/Programs/Python/Python310/lib/site-packages/scipy/stats/__init__.py?line=454'>455</a>\u001b[0m \u001b[39mfrom\u001b[39;00m \u001b[39m.\u001b[39;00m\u001b[39mdistributions\u001b[39;00m \u001b[39mimport\u001b[39;00m \u001b[39m*\u001b[39m\n",
            "File \u001b[1;32m~\\AppData\\Local\\Programs\\Python\\Python310\\lib\\site-packages\\scipy\\stats\\_stats_py.py:39\u001b[0m, in \u001b[0;36m<module>\u001b[1;34m\u001b[0m\n\u001b[0;32m     <a href='file:///c%3A/Users/migue/AppData/Local/Programs/Python/Python310/lib/site-packages/scipy/stats/_stats_py.py?line=35'>36</a>\u001b[0m \u001b[39mfrom\u001b[39;00m \u001b[39mnumpy\u001b[39;00m\u001b[39m.\u001b[39;00m\u001b[39mlib\u001b[39;00m \u001b[39mimport\u001b[39;00m NumpyVersion\n\u001b[0;32m     <a href='file:///c%3A/Users/migue/AppData/Local/Programs/Python/Python310/lib/site-packages/scipy/stats/_stats_py.py?line=37'>38</a>\u001b[0m \u001b[39mfrom\u001b[39;00m \u001b[39mscipy\u001b[39;00m\u001b[39m.\u001b[39;00m\u001b[39mspatial\u001b[39;00m\u001b[39m.\u001b[39;00m\u001b[39mdistance\u001b[39;00m \u001b[39mimport\u001b[39;00m cdist\n\u001b[1;32m---> <a href='file:///c%3A/Users/migue/AppData/Local/Programs/Python/Python310/lib/site-packages/scipy/stats/_stats_py.py?line=38'>39</a>\u001b[0m \u001b[39mfrom\u001b[39;00m \u001b[39mscipy\u001b[39;00m\u001b[39m.\u001b[39;00m\u001b[39mndimage\u001b[39;00m \u001b[39mimport\u001b[39;00m _measurements\n\u001b[0;32m     <a href='file:///c%3A/Users/migue/AppData/Local/Programs/Python/Python310/lib/site-packages/scipy/stats/_stats_py.py?line=39'>40</a>\u001b[0m \u001b[39mfrom\u001b[39;00m \u001b[39mscipy\u001b[39;00m\u001b[39m.\u001b[39;00m\u001b[39m_lib\u001b[39;00m\u001b[39m.\u001b[39;00m\u001b[39m_util\u001b[39;00m \u001b[39mimport\u001b[39;00m (check_random_state, MapWrapper,\n\u001b[0;32m     <a href='file:///c%3A/Users/migue/AppData/Local/Programs/Python/Python310/lib/site-packages/scipy/stats/_stats_py.py?line=40'>41</a>\u001b[0m                               rng_integers, float_factorial)\n\u001b[0;32m     <a href='file:///c%3A/Users/migue/AppData/Local/Programs/Python/Python310/lib/site-packages/scipy/stats/_stats_py.py?line=41'>42</a>\u001b[0m \u001b[39mimport\u001b[39;00m \u001b[39mscipy\u001b[39;00m\u001b[39m.\u001b[39;00m\u001b[39mspecial\u001b[39;00m \u001b[39mas\u001b[39;00m \u001b[39mspecial\u001b[39;00m\n",
            "File \u001b[1;32m~\\AppData\\Local\\Programs\\Python\\Python310\\lib\\site-packages\\scipy\\ndimage\\__init__.py:151\u001b[0m, in \u001b[0;36m<module>\u001b[1;34m\u001b[0m\n\u001b[0;32m      <a href='file:///c%3A/Users/migue/AppData/Local/Programs/Python/Python310/lib/site-packages/scipy/ndimage/__init__.py?line=0'>1</a>\u001b[0m \u001b[39m\"\"\"\u001b[39;00m\n\u001b[0;32m      <a href='file:///c%3A/Users/migue/AppData/Local/Programs/Python/Python310/lib/site-packages/scipy/ndimage/__init__.py?line=1'>2</a>\u001b[0m \u001b[39m=========================================================\u001b[39;00m\n\u001b[0;32m      <a href='file:///c%3A/Users/migue/AppData/Local/Programs/Python/Python310/lib/site-packages/scipy/ndimage/__init__.py?line=2'>3</a>\u001b[0m \u001b[39mMultidimensional image processing (:mod:`scipy.ndimage`)\u001b[39;00m\n\u001b[1;32m   (...)\u001b[0m\n\u001b[0;32m    <a href='file:///c%3A/Users/migue/AppData/Local/Programs/Python/Python310/lib/site-packages/scipy/ndimage/__init__.py?line=117'>118</a>\u001b[0m \n\u001b[0;32m    <a href='file:///c%3A/Users/migue/AppData/Local/Programs/Python/Python310/lib/site-packages/scipy/ndimage/__init__.py?line=118'>119</a>\u001b[0m \u001b[39m\"\"\"\u001b[39;00m\n\u001b[0;32m    <a href='file:///c%3A/Users/migue/AppData/Local/Programs/Python/Python310/lib/site-packages/scipy/ndimage/__init__.py?line=120'>121</a>\u001b[0m \u001b[39m# Copyright (C) 2003-2005 Peter J. Verveer\u001b[39;00m\n\u001b[0;32m    <a href='file:///c%3A/Users/migue/AppData/Local/Programs/Python/Python310/lib/site-packages/scipy/ndimage/__init__.py?line=121'>122</a>\u001b[0m \u001b[39m#\u001b[39;00m\n\u001b[0;32m    <a href='file:///c%3A/Users/migue/AppData/Local/Programs/Python/Python310/lib/site-packages/scipy/ndimage/__init__.py?line=122'>123</a>\u001b[0m \u001b[39m# Redistribution and use in source and binary forms, with or without\u001b[39;00m\n\u001b[1;32m   (...)\u001b[0m\n\u001b[0;32m    <a href='file:///c%3A/Users/migue/AppData/Local/Programs/Python/Python310/lib/site-packages/scipy/ndimage/__init__.py?line=147'>148</a>\u001b[0m \u001b[39m# NEGLIGENCE OR OTHERWISE) ARISING IN ANY WAY OUT OF THE USE OF THIS\u001b[39;00m\n\u001b[0;32m    <a href='file:///c%3A/Users/migue/AppData/Local/Programs/Python/Python310/lib/site-packages/scipy/ndimage/__init__.py?line=148'>149</a>\u001b[0m \u001b[39m# SOFTWARE, EVEN IF ADVISED OF THE POSSIBILITY OF SUCH DAMAGE.\u001b[39;00m\n\u001b[1;32m--> <a href='file:///c%3A/Users/migue/AppData/Local/Programs/Python/Python310/lib/site-packages/scipy/ndimage/__init__.py?line=150'>151</a>\u001b[0m \u001b[39mfrom\u001b[39;00m \u001b[39m.\u001b[39;00m\u001b[39m_filters\u001b[39;00m \u001b[39mimport\u001b[39;00m \u001b[39m*\u001b[39m  \u001b[39m# noqa: F401 F403\u001b[39;00m\n\u001b[0;32m    <a href='file:///c%3A/Users/migue/AppData/Local/Programs/Python/Python310/lib/site-packages/scipy/ndimage/__init__.py?line=151'>152</a>\u001b[0m \u001b[39mfrom\u001b[39;00m \u001b[39m.\u001b[39;00m\u001b[39m_fourier\u001b[39;00m \u001b[39mimport\u001b[39;00m \u001b[39m*\u001b[39m  \u001b[39m# noqa: F401 F403\u001b[39;00m\n\u001b[0;32m    <a href='file:///c%3A/Users/migue/AppData/Local/Programs/Python/Python310/lib/site-packages/scipy/ndimage/__init__.py?line=152'>153</a>\u001b[0m \u001b[39mfrom\u001b[39;00m \u001b[39m.\u001b[39;00m\u001b[39m_interpolation\u001b[39;00m \u001b[39mimport\u001b[39;00m \u001b[39m*\u001b[39m  \u001b[39m# noqa: F401 F403\u001b[39;00m\n",
            "File \u001b[1;32m~\\AppData\\Local\\Programs\\Python\\Python310\\lib\\site-packages\\scipy\\ndimage\\_filters.py:36\u001b[0m, in \u001b[0;36m<module>\u001b[1;34m\u001b[0m\n\u001b[0;32m     <a href='file:///c%3A/Users/migue/AppData/Local/Programs/Python/Python310/lib/site-packages/scipy/ndimage/_filters.py?line=33'>34</a>\u001b[0m \u001b[39mimport\u001b[39;00m \u001b[39moperator\u001b[39;00m\n\u001b[0;32m     <a href='file:///c%3A/Users/migue/AppData/Local/Programs/Python/Python310/lib/site-packages/scipy/ndimage/_filters.py?line=34'>35</a>\u001b[0m \u001b[39mfrom\u001b[39;00m \u001b[39mnumpy\u001b[39;00m\u001b[39m.\u001b[39;00m\u001b[39mcore\u001b[39;00m\u001b[39m.\u001b[39;00m\u001b[39mmultiarray\u001b[39;00m \u001b[39mimport\u001b[39;00m normalize_axis_index\n\u001b[1;32m---> <a href='file:///c%3A/Users/migue/AppData/Local/Programs/Python/Python310/lib/site-packages/scipy/ndimage/_filters.py?line=35'>36</a>\u001b[0m \u001b[39mfrom\u001b[39;00m \u001b[39m.\u001b[39;00m \u001b[39mimport\u001b[39;00m _ni_support\n\u001b[0;32m     <a href='file:///c%3A/Users/migue/AppData/Local/Programs/Python/Python310/lib/site-packages/scipy/ndimage/_filters.py?line=36'>37</a>\u001b[0m \u001b[39mfrom\u001b[39;00m \u001b[39m.\u001b[39;00m \u001b[39mimport\u001b[39;00m _nd_image\n\u001b[0;32m     <a href='file:///c%3A/Users/migue/AppData/Local/Programs/Python/Python310/lib/site-packages/scipy/ndimage/_filters.py?line=37'>38</a>\u001b[0m \u001b[39mfrom\u001b[39;00m \u001b[39m.\u001b[39;00m \u001b[39mimport\u001b[39;00m _ni_docstrings\n",
            "File \u001b[1;32m<frozen importlib._bootstrap>:1027\u001b[0m, in \u001b[0;36m_find_and_load\u001b[1;34m(name, import_)\u001b[0m\n",
            "File \u001b[1;32m<frozen importlib._bootstrap>:1002\u001b[0m, in \u001b[0;36m_find_and_load_unlocked\u001b[1;34m(name, import_)\u001b[0m\n",
            "File \u001b[1;32m<frozen importlib._bootstrap>:945\u001b[0m, in \u001b[0;36m_find_spec\u001b[1;34m(name, path, target)\u001b[0m\n",
            "File \u001b[1;32m<frozen importlib._bootstrap_external>:1439\u001b[0m, in \u001b[0;36mfind_spec\u001b[1;34m(cls, fullname, path, target)\u001b[0m\n",
            "File \u001b[1;32m<frozen importlib._bootstrap_external>:1411\u001b[0m, in \u001b[0;36m_get_spec\u001b[1;34m(cls, fullname, path, target)\u001b[0m\n",
            "File \u001b[1;32m<frozen importlib._bootstrap_external>:1577\u001b[0m, in \u001b[0;36mfind_spec\u001b[1;34m(self, fullname, target)\u001b[0m\n",
            "File \u001b[1;32m<frozen importlib._bootstrap_external>:161\u001b[0m, in \u001b[0;36m_path_isfile\u001b[1;34m(path)\u001b[0m\n",
            "File \u001b[1;32m<frozen importlib._bootstrap_external>:153\u001b[0m, in \u001b[0;36m_path_is_mode_type\u001b[1;34m(path, mode)\u001b[0m\n",
            "File \u001b[1;32m<frozen importlib._bootstrap_external>:147\u001b[0m, in \u001b[0;36m_path_stat\u001b[1;34m(path)\u001b[0m\n",
            "\u001b[1;31mKeyboardInterrupt\u001b[0m: "
          ]
        }
      ],
      "source": [
        "import pandas as pd\n",
        "import numpy as np\n",
        "from sklearn import linear_model\n",
        "import math\n",
        "from sklearn.model_selection import train_test_split\n",
        "from keras.models import Sequential\n",
        "from keras.models import load_model\n",
        "from keras.layers import LSTM, Dense, Dropout\n",
        "from sklearn.preprocessing import MinMaxScaler\n",
        "from keras.losses import CategoricalCrossentropy\n",
        "from keras.callbacks import EarlyStopping\n",
        "import tensorflow\n"
      ]
    },
    {
      "cell_type": "code",
      "execution_count": null,
      "metadata": {},
      "outputs": [
        {
          "name": "stderr",
          "output_type": "stream",
          "text": [
            "C:\\Users\\migue\\AppData\\Local\\Temp\\ipykernel_15060\\2204598858.py:2: FutureWarning: The error_bad_lines argument has been deprecated and will be removed in a future version. Use on_bad_lines in the future.\n",
            "\n",
            "\n",
            "  df = pd.read_csv(\"cosas_finales\\casos_all - obtiene7-10.txt\", error_bad_lines=False)\n"
          ]
        }
      ],
      "source": [
        "#Load training data\n",
        "df = pd.read_csv(\"cosas_finales\\casos_all - obtiene7-10.txt\", error_bad_lines=False)\n",
        "x_train = df.iloc[:, 0:6]\n",
        "\n",
        "y_train = []\n",
        "for i in range(0,len(df)):\n",
        "  high = df.tipo.values[i]\n",
        "  if high == 0:\n",
        "    y_train.append([1,0,0,0,0,0])\n",
        "  elif high == 1:\n",
        "    y_train.append([0,1,0,0,0,0])\n",
        "  elif high == 2:\n",
        "    y_train.append([0,0,1,0,0,0])\n",
        "  elif high == 3:\n",
        "    y_train.append([0,0,0,1,0,0])\n",
        "  elif high == 4:\n",
        "    y_train.append([0,0,0,0,1,0])\n",
        "  elif high == 5:\n",
        "    y_train.append([0,0,0,0,0,1])\n",
        "  else:\n",
        "    print(str(i) + \" \" + str(df.tipo.values[i]))\n",
        "\n",
        "x_train, y_train = np.array(x_train), np.array(y_train)\n",
        "x_train = np.asarray(x_train).astype('float32')\n",
        "y_train = np.asarray(y_train).astype('float32')\n",
        "\n",
        "x_train"
      ]
    },
    {
      "cell_type": "code",
      "execution_count": null,
      "metadata": {
        "id": "6VV8VrhyVkXf"
      },
      "outputs": [
        {
          "name": "stderr",
          "output_type": "stream",
          "text": [
            "C:\\Users\\migue\\AppData\\Local\\Temp\\ipykernel_15060\\1008687113.py:2: FutureWarning: The error_bad_lines argument has been deprecated and will be removed in a future version. Use on_bad_lines in the future.\n",
            "\n",
            "\n",
            "  real_df = pd.read_csv(\"cosas_finales/tiempos.csv\", error_bad_lines=False)\n"
          ]
        }
      ],
      "source": [
        "#Load validation data\n",
        "real_df = pd.read_csv(\"cosas_finales/tiempos.csv\", error_bad_lines=False)\n",
        "real_df\n",
        "\n",
        "x_train_val = real_df.iloc[:, 1:7]\n",
        "x_train_val\n",
        "\n",
        "y_train_val = []\n",
        "for i in range(0,len(real_df)):\n",
        "  high = real_df.tipo.values[i]\n",
        "  if high == 0:\n",
        "    y_train_val.append([1,0,0,0,0,0])\n",
        "  elif high == 1:\n",
        "    y_train_val.append([0,1,0,0,0,0])\n",
        "  elif high == 2:\n",
        "    y_train_val.append([0,0,1,0,0,0])\n",
        "  elif high == 3:\n",
        "    y_train_val.append([0,0,0,1,0,0])\n",
        "  elif high == 4:\n",
        "    y_train_val.append([0,0,0,0,1,0])\n",
        "  elif high == 5:\n",
        "    y_train_val.append([0,0,0,0,0,1])\n",
        "  else:\n",
        "    print(str(i) + \" \" + str(real_df.tipo.values[i]))\n",
        "\n",
        "x_train_val, y_train_val = np.array(x_train_val), np.array(y_train_val)\n",
        "x_train_val = np.asarray(x_train_val).astype('float32')\n",
        "y_train_val = np.asarray(y_train_val).astype('float32')\n",
        "\n",
        "x_train_val"
      ]
    },
    {
      "cell_type": "code",
      "execution_count": null,
      "metadata": {
        "id": "jo98dadjEnl9"
      },
      "outputs": [],
      "source": [
        "model = load_model(\"cosas_finales\\model3-8.h5\")\n",
        "model.summary()"
      ]
    },
    {
      "cell_type": "code",
      "execution_count": null,
      "metadata": {},
      "outputs": [
        {
          "name": "stdout",
          "output_type": "stream",
          "text": [
            "Epoch 1/20\n",
            "14987/97000 [===>..........................] - ETA: 9:18 - loss: 0.6772 - accuracy: 0.6636"
          ]
        }
      ],
      "source": [
        "#Train the model with the 'train' portion of the data \n",
        "#The other parameters are tuned down in order to reduce train time but should be higher\n",
        "callback = EarlyStopping(monitor='val_accuracy', patience = 6, restore_best_weights=True)\n",
        "\n",
        "model.fit(x_train, y_train, batch_size=8, epochs=20, callbacks=[callback], validation_data=(x_train_val, y_train_val))"
      ]
    },
    {
      "cell_type": "code",
      "execution_count": null,
      "metadata": {
        "id": "5JXaGWoEv6uy"
      },
      "outputs": [],
      "source": [
        "real_df_preds = model.predict(x_train_val)\n",
        "\n",
        "real_preds = []\n",
        "for i in range(0,len(real_df_preds)):\n",
        "  p = real_df_preds[i]\n",
        "  if max(p) == p[0]:\n",
        "    real_preds.append([1,0,0,0,0,0])\n",
        "  elif max(p) == p[1]:\n",
        "    real_preds.append([0,1,0,0,0,0])\n",
        "  elif max(p) == p[2]:\n",
        "    real_preds.append([0,0,1,0,0,0])\n",
        "  elif max(p) == p[3]:\n",
        "    real_preds.append([0,0,0,1,0,0])\n",
        "  elif max(p) == p[4]:\n",
        "    real_preds.append([0,0,0,0,1,0])\n",
        "  elif max(p) == p[5]:\n",
        "    real_preds.append([0,0,0,0,0,1])\n",
        "\n",
        "err = real_preds - y_train_val\n",
        "err"
      ]
    },
    {
      "cell_type": "markdown",
      "metadata": {
        "id": "RpQDYgtjlRew"
      },
      "source": [
        "añadir O(1).\n",
        "t2 - t1 y t3 - t1 => plot (esto no hace falta era para el debug)"
      ]
    },
    {
      "cell_type": "code",
      "execution_count": null,
      "metadata": {
        "id": "o8_DoFJgooFh"
      },
      "outputs": [
        {
          "name": "stdout",
          "output_type": "stream",
          "text": [
            "niniosPrimero sol: N\n",
            "--cazaTesoros sol: N^2\n",
            "tiroPalindromo sol: N^2\n",
            "3 / 8 => real error% of 37.5\n"
          ]
        }
      ],
      "source": [
        "def numToType( t):\n",
        "  if t==0: return \"CTE\"\n",
        "  elif t==1:return \"LOG\"\n",
        "  elif t==2:return \"N\"\n",
        "  elif t==3:return \"NLOGN\"\n",
        "  elif t==4:return \"N^2\"\n",
        "  elif t==5:return \"N^3\"\n",
        "\n",
        "error_count = 0\n",
        "for i in range(0, len(err)):\n",
        "  if max(err[i]) != min(err[i]):\n",
        "    print(str(real_df.name.values[i]) + \" sol: \" + numToType(real_df.tipo.values[i]))\n",
        "    error_count += 1\n",
        "print(str(error_count) + \" / \" + str(len(real_preds)) + \" => real error% of \" + str(error_count/len(real_preds)*100))"
      ]
    }
  ],
  "metadata": {
    "colab": {
      "collapsed_sections": [],
      "name": "OrderGuessNN (NoSize) .ipynb",
      "provenance": []
    },
    "kernelspec": {
      "display_name": "Python 3",
      "name": "python3"
    },
    "language_info": {
      "codemirror_mode": {
        "name": "ipython",
        "version": 3
      },
      "file_extension": ".py",
      "mimetype": "text/x-python",
      "name": "python",
      "nbconvert_exporter": "python",
      "pygments_lexer": "ipython3",
      "version": "3.10.4"
    }
  },
  "nbformat": 4,
  "nbformat_minor": 0
}
